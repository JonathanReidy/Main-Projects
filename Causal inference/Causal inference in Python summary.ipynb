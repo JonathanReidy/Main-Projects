{
 "cells": [
  {
   "metadata": {},
   "cell_type": "markdown",
   "source": "## SUMMARY OF POSSIBILITIES TO DO CAUSAL ANALYSIS",
   "id": "9c669c9d9c39d2b6"
  },
  {
   "metadata": {},
   "cell_type": "markdown",
   "source": "### Creation of random data to show applications in code",
   "id": "bb0eb560a50382bd"
  },
  {
   "metadata": {
    "ExecuteTime": {
     "end_time": "2025-03-12T09:40:16.612937Z",
     "start_time": "2025-03-12T09:40:09.651702Z"
    }
   },
   "cell_type": "code",
   "source": [
    "from ensurepip import bootstrap\n",
    "\n",
    "import pandas as pd\n",
    "import numpy as np\n",
    "\n",
    "np.random.seed(123)\n",
    "#creation of treatment\n",
    "T_binary = np.random.randint(0,2, 100)\n",
    "T_continuous = np.random.randint(200, 601, 100)\n",
    "#creation of X variables\n",
    "x1, x2, x3 = np.random.randint(0,2, 100), np.random.randint(16, 31, 100), np.random.randint(18, 66, 100)\n",
    "#creation of Y variable\n",
    "y_binary = np.random.randint(0,2, 100)\n",
    "y_continuous = np.random.randint(4000, 8001, 100)"
   ],
   "id": "3721375f2b05d11a",
   "outputs": [],
   "execution_count": 1
  },
  {
   "metadata": {
    "ExecuteTime": {
     "end_time": "2025-03-12T09:40:17.346195Z",
     "start_time": "2025-03-12T09:40:16.837712Z"
    }
   },
   "cell_type": "code",
   "source": [
    "df_yB_TB = pd.DataFrame(zip(y_binary,T_binary,x1,x2,x3), columns=['Pass_test', 'Invitation_training', 'Gender', 'Education', 'Age'])\n",
    "df_yB_TC = pd.DataFrame(zip(y_binary,T_continuous,x1,x2,x3), columns=['Pass_test', 'Subvention', 'Gender', 'Education', 'Age'])\n",
    "df_yC_TC = pd.DataFrame(zip(y_continuous,T_continuous,x1,x2,x3), columns=['Wage', 'Subvention', 'Gender', 'Education', 'Age'])\n",
    "df_yC_TB = pd.DataFrame(zip(y_continuous,T_binary,x1,x2,x3), columns=['Wage', 'Invitation_training', 'Gender', 'Education', 'Age'])"
   ],
   "id": "9cde23e576e66193",
   "outputs": [],
   "execution_count": 2
  },
  {
   "metadata": {},
   "cell_type": "markdown",
   "source": "Different df combining continuous and binary outcome / treatment\n",
   "id": "387bb79e9e96b671"
  },
  {
   "metadata": {
    "ExecuteTime": {
     "end_time": "2025-03-12T09:40:20.154454Z",
     "start_time": "2025-03-12T09:40:19.917201Z"
    }
   },
   "cell_type": "code",
   "source": "df_yB_TB.sample(5)",
   "id": "9ac2d1de0195c6b1",
   "outputs": [
    {
     "data": {
      "text/plain": [
       "    Pass_test  Invitation_training  Gender  Education  Age\n",
       "74          0                    1       0         21   37\n",
       "66          1                    0       0         23   49\n",
       "10          1                    1       1         23   55\n",
       "36          1                    1       0         20   63\n",
       "37          0                    0       0         21   50"
      ],
      "text/html": [
       "<div>\n",
       "<style scoped>\n",
       "    .dataframe tbody tr th:only-of-type {\n",
       "        vertical-align: middle;\n",
       "    }\n",
       "\n",
       "    .dataframe tbody tr th {\n",
       "        vertical-align: top;\n",
       "    }\n",
       "\n",
       "    .dataframe thead th {\n",
       "        text-align: right;\n",
       "    }\n",
       "</style>\n",
       "<table border=\"1\" class=\"dataframe\">\n",
       "  <thead>\n",
       "    <tr style=\"text-align: right;\">\n",
       "      <th></th>\n",
       "      <th>Pass_test</th>\n",
       "      <th>Invitation_training</th>\n",
       "      <th>Gender</th>\n",
       "      <th>Education</th>\n",
       "      <th>Age</th>\n",
       "    </tr>\n",
       "  </thead>\n",
       "  <tbody>\n",
       "    <tr>\n",
       "      <th>74</th>\n",
       "      <td>0</td>\n",
       "      <td>1</td>\n",
       "      <td>0</td>\n",
       "      <td>21</td>\n",
       "      <td>37</td>\n",
       "    </tr>\n",
       "    <tr>\n",
       "      <th>66</th>\n",
       "      <td>1</td>\n",
       "      <td>0</td>\n",
       "      <td>0</td>\n",
       "      <td>23</td>\n",
       "      <td>49</td>\n",
       "    </tr>\n",
       "    <tr>\n",
       "      <th>10</th>\n",
       "      <td>1</td>\n",
       "      <td>1</td>\n",
       "      <td>1</td>\n",
       "      <td>23</td>\n",
       "      <td>55</td>\n",
       "    </tr>\n",
       "    <tr>\n",
       "      <th>36</th>\n",
       "      <td>1</td>\n",
       "      <td>1</td>\n",
       "      <td>0</td>\n",
       "      <td>20</td>\n",
       "      <td>63</td>\n",
       "    </tr>\n",
       "    <tr>\n",
       "      <th>37</th>\n",
       "      <td>0</td>\n",
       "      <td>0</td>\n",
       "      <td>0</td>\n",
       "      <td>21</td>\n",
       "      <td>50</td>\n",
       "    </tr>\n",
       "  </tbody>\n",
       "</table>\n",
       "</div>"
      ]
     },
     "execution_count": 3,
     "metadata": {},
     "output_type": "execute_result"
    }
   ],
   "execution_count": 3
  },
  {
   "metadata": {},
   "cell_type": "markdown",
   "source": "### 1. Linear regression",
   "id": "5d16effabea0b450"
  },
  {
   "metadata": {},
   "cell_type": "markdown",
   "source": "#### 1.1. Assumptions and general informations about linear regression",
   "id": "827a2b29b104c3ec"
  },
  {
   "metadata": {},
   "cell_type": "markdown",
   "source": [
    "1) Linear regression (Lr) is a minimization problem: try to min. the MSE\n",
    "2) Lr is like A/B testing and gives already statistics such as p-values, confidence-interval (CI), ...\n",
    "3) Lr model: y = b0 + b1x, where b0 is intercept (expected y when all x set to 0), and b1 is effect on y for a changes in x, and effect of x on y is b0+b1\n",
    "4) The FRISH-WAUGH-LOWEL theorem: debiasing and denoising steps: when multiple X regressors: Y and T are regressed on X so that the last step is the regression of Y on T residuals. This means no correlations between X and T: remove the confounding\n",
    "5) Lr can handle non-linearities by changing the regressor into non-linearity: add dummy variables, interaction terms, polynomials\n",
    "6) Open question still this day: bias-variance tradeoff in Lr: might include X variables to control for confounding to reduce bias but might increase the variance if the X variable predict strongly (T or Y) and weakly (Y or T). Might be possible to drop an X that doesn't predict strongly both to increase bias but reduce variance BUT ONLY IF X predicts strongly T and weakly Y !\n",
    "7) Assumptions general in causal: Randomization is the best way to do causal. SUTVA: stable unit treatment values assumption: effect to a person is only due to its assignment to the treatment, not by others assignment: no spillover effect. Independence assumption: potential outcomes are independent of the treatment. It ensures that both groups are comparable (same background characteristics) and only differ by the treatment assignment.\n"
   ],
   "id": "f2c83c277fe20393"
  },
  {
   "metadata": {},
   "cell_type": "markdown",
   "source": "#### 1.2. Application using statsmodels",
   "id": "14bb4685bd49435e"
  },
  {
   "metadata": {
    "ExecuteTime": {
     "end_time": "2025-03-12T09:40:38.096663Z",
     "start_time": "2025-03-12T09:40:20.545372Z"
    }
   },
   "cell_type": "code",
   "source": [
    "import statsmodels.formula.api as smf\n",
    "\n",
    "OLS = smf.ols('Wage~C(Invitation_training)', data=df_yC_TB).fit() #in statsmodels: C() for categorical variables"
   ],
   "id": "516470b4232fc556",
   "outputs": [],
   "execution_count": 4
  },
  {
   "metadata": {
    "ExecuteTime": {
     "end_time": "2025-03-12T09:40:38.626511Z",
     "start_time": "2025-03-12T09:40:38.286647Z"
    }
   },
   "cell_type": "code",
   "source": "OLS.summary().tables[1]",
   "id": "c35c378d7122e6f9",
   "outputs": [
    {
     "data": {
      "text/plain": [
       "<class 'statsmodels.iolib.table.SimpleTable'>"
      ],
      "text/html": [
       "<table class=\"simpletable\">\n",
       "<tr>\n",
       "               <td></td>                  <th>coef</th>     <th>std err</th>      <th>t</th>      <th>P>|t|</th>  <th>[0.025</th>    <th>0.975]</th>  \n",
       "</tr>\n",
       "<tr>\n",
       "  <th>Intercept</th>                   <td> 6174.9636</td> <td>  175.037</td> <td>   35.278</td> <td> 0.000</td> <td> 5827.609</td> <td> 6522.319</td>\n",
       "</tr>\n",
       "<tr>\n",
       "  <th>C(Invitation_training)[T.1]</th> <td> -114.6747</td> <td>  260.930</td> <td>   -0.439</td> <td> 0.661</td> <td> -632.481</td> <td>  403.132</td>\n",
       "</tr>\n",
       "</table>"
      ],
      "text/latex": "\\begin{center}\n\\begin{tabular}{lcccccc}\n\\toprule\n                                      & \\textbf{coef} & \\textbf{std err} & \\textbf{t} & \\textbf{P$> |$t$|$} & \\textbf{[0.025} & \\textbf{0.975]}  \\\\\n\\midrule\n\\textbf{Intercept}                    &    6174.9636  &      175.037     &    35.278  &         0.000        &     5827.609    &     6522.319     \\\\\n\\textbf{C(Invitation\\_training)[T.1]} &    -114.6747  &      260.930     &    -0.439  &         0.661        &     -632.481    &      403.132     \\\\\n\\bottomrule\n\\end{tabular}\n\\end{center}"
     },
     "execution_count": 5,
     "metadata": {},
     "output_type": "execute_result"
    }
   ],
   "execution_count": 5
  },
  {
   "metadata": {},
   "cell_type": "markdown",
   "source": "We see here that to be invited to the training reduces the wage by 114.67 units (CHF). The result is not significant (p-value>0.05). The average wage of people who don't receive the training is 6174 CHF.",
   "id": "ca82c210cb801ab9"
  },
  {
   "metadata": {
    "ExecuteTime": {
     "end_time": "2025-03-12T09:40:39.107250Z",
     "start_time": "2025-03-12T09:40:39.065661Z"
    }
   },
   "cell_type": "code",
   "source": "OLS = smf.ols('Wage~C(Invitation_training)+C(Gender)+Education+Age', data=df_yC_TB).fit()",
   "id": "66be690172167331",
   "outputs": [],
   "execution_count": 6
  },
  {
   "metadata": {
    "ExecuteTime": {
     "end_time": "2025-03-12T09:40:39.385673Z",
     "start_time": "2025-03-12T09:40:39.300059Z"
    }
   },
   "cell_type": "code",
   "source": "OLS.summary().tables[1]",
   "id": "7c8400afef2d44e1",
   "outputs": [
    {
     "data": {
      "text/plain": [
       "<class 'statsmodels.iolib.table.SimpleTable'>"
      ],
      "text/html": [
       "<table class=\"simpletable\">\n",
       "<tr>\n",
       "               <td></td>                  <th>coef</th>     <th>std err</th>      <th>t</th>      <th>P>|t|</th>  <th>[0.025</th>    <th>0.975]</th>  \n",
       "</tr>\n",
       "<tr>\n",
       "  <th>Intercept</th>                   <td> 5261.0846</td> <td>  845.567</td> <td>    6.222</td> <td> 0.000</td> <td> 3582.421</td> <td> 6939.748</td>\n",
       "</tr>\n",
       "<tr>\n",
       "  <th>C(Invitation_training)[T.1]</th> <td>  -99.3457</td> <td>  265.966</td> <td>   -0.374</td> <td> 0.710</td> <td> -627.355</td> <td>  428.664</td>\n",
       "</tr>\n",
       "<tr>\n",
       "  <th>C(Gender)[T.1]</th>              <td>  190.8575</td> <td>  268.658</td> <td>    0.710</td> <td> 0.479</td> <td> -342.495</td> <td>  724.210</td>\n",
       "</tr>\n",
       "<tr>\n",
       "  <th>Education</th>                   <td>   10.8380</td> <td>   28.925</td> <td>    0.375</td> <td> 0.709</td> <td>  -46.584</td> <td>   68.260</td>\n",
       "</tr>\n",
       "<tr>\n",
       "  <th>Age</th>                         <td>   13.1362</td> <td>    9.646</td> <td>    1.362</td> <td> 0.176</td> <td>   -6.013</td> <td>   32.285</td>\n",
       "</tr>\n",
       "</table>"
      ],
      "text/latex": "\\begin{center}\n\\begin{tabular}{lcccccc}\n\\toprule\n                                      & \\textbf{coef} & \\textbf{std err} & \\textbf{t} & \\textbf{P$> |$t$|$} & \\textbf{[0.025} & \\textbf{0.975]}  \\\\\n\\midrule\n\\textbf{Intercept}                    &    5261.0846  &      845.567     &     6.222  &         0.000        &     3582.421    &     6939.748     \\\\\n\\textbf{C(Invitation\\_training)[T.1]} &     -99.3457  &      265.966     &    -0.374  &         0.710        &     -627.355    &      428.664     \\\\\n\\textbf{C(Gender)[T.1]}               &     190.8575  &      268.658     &     0.710  &         0.479        &     -342.495    &      724.210     \\\\\n\\textbf{Education}                    &      10.8380  &       28.925     &     0.375  &         0.709        &      -46.584    &       68.260     \\\\\n\\textbf{Age}                          &      13.1362  &        9.646     &     1.362  &         0.176        &       -6.013    &       32.285     \\\\\n\\bottomrule\n\\end{tabular}\n\\end{center}"
     },
     "execution_count": 7,
     "metadata": {},
     "output_type": "execute_result"
    }
   ],
   "execution_count": 7
  },
  {
   "metadata": {},
   "cell_type": "markdown",
   "source": "Here, we controlled for confounding and we see now to be invited reduced less the wage: -99.24 compared at -114 before but this result is still not significant.",
   "id": "694656497d5d0540"
  },
  {
   "metadata": {},
   "cell_type": "markdown",
   "source": "### 2. Propensity score models",
   "id": "3ee1130f6a509b"
  },
  {
   "metadata": {},
   "cell_type": "markdown",
   "source": "#### 2.1. General informations about propensity score",
   "id": "fa70d8b29106475f"
  },
  {
   "metadata": {},
   "cell_type": "markdown",
   "source": [
    "1) Propensity score (Ps) is the probability to be treated given X: P(T|X). It is then possible to control for the Ps which is one-dimensional instead of the X variables which are high-dimensional. Controlling for Ps makes the assignment to the treatment again as good as randomly assigned !\n",
    "2) A binary treatment: can approximate the Ps function with a logit model\n",
    "3) We will see in the following chapter: Ps with Lr / Ps matching estimators / Inverse Probability weighting estimator (IPW) / Doubly robust estimator (DR)\n",
    "4) We will aslo see models for continuous treatment but more complicated\n",
    "5) When Treatment is binary: better use IPW or DR. When Treatment is continuous: better use Lr"
   ],
   "id": "665f18edb035dab5"
  },
  {
   "metadata": {},
   "cell_type": "markdown",
   "source": "#### 2.2. Ps with Lr models",
   "id": "f57e40874b429670"
  },
  {
   "metadata": {
    "ExecuteTime": {
     "end_time": "2025-03-12T09:40:39.964054Z",
     "start_time": "2025-03-12T09:40:39.595518Z"
    }
   },
   "cell_type": "code",
   "source": "ps_score = smf.logit('Invitation_training~C(Gender)+Education+Age', data=df_yC_TB).fit(disp=0) #estimate P(T|X). disp=0 not to have message",
   "id": "8889ad06a3f786fc",
   "outputs": [],
   "execution_count": 8
  },
  {
   "metadata": {
    "ExecuteTime": {
     "end_time": "2025-03-12T09:40:40.027299Z",
     "start_time": "2025-03-12T09:40:40.005643Z"
    }
   },
   "cell_type": "code",
   "source": "data_ps = df_yC_TB.assign(Propensity_score=ps_score.predict(df_yC_TB)) #assign new col with ps",
   "id": "8d5081ae494d9991",
   "outputs": [],
   "execution_count": 9
  },
  {
   "metadata": {
    "ExecuteTime": {
     "end_time": "2025-03-12T09:40:40.311633Z",
     "start_time": "2025-03-12T09:40:40.078546Z"
    }
   },
   "cell_type": "code",
   "source": "OLS = smf.ols('Wage~C(Invitation_training)+Propensity_score', data=data_ps).fit() #estimate effect",
   "id": "531ab9e3852a74a1",
   "outputs": [],
   "execution_count": 10
  },
  {
   "metadata": {
    "ExecuteTime": {
     "end_time": "2025-03-12T09:40:40.612302Z",
     "start_time": "2025-03-12T09:40:40.432009Z"
    }
   },
   "cell_type": "code",
   "source": "OLS.summary().tables[1]",
   "id": "fdddbbb20bfcfdc5",
   "outputs": [
    {
     "data": {
      "text/plain": [
       "<class 'statsmodels.iolib.table.SimpleTable'>"
      ],
      "text/html": [
       "<table class=\"simpletable\">\n",
       "<tr>\n",
       "               <td></td>                  <th>coef</th>     <th>std err</th>      <th>t</th>      <th>P>|t|</th>  <th>[0.025</th>    <th>0.975]</th>  \n",
       "</tr>\n",
       "<tr>\n",
       "  <th>Intercept</th>                   <td> 6394.8515</td> <td>  695.287</td> <td>    9.197</td> <td> 0.000</td> <td> 5014.900</td> <td> 7774.803</td>\n",
       "</tr>\n",
       "<tr>\n",
       "  <th>C(Invitation_training)[T.1]</th> <td>  -99.8510</td> <td>  266.021</td> <td>   -0.375</td> <td> 0.708</td> <td> -627.828</td> <td>  428.126</td>\n",
       "</tr>\n",
       "<tr>\n",
       "  <th>Propensity_score</th>            <td> -503.4635</td> <td> 1540.203</td> <td>   -0.327</td> <td> 0.744</td> <td>-3560.339</td> <td> 2553.412</td>\n",
       "</tr>\n",
       "</table>"
      ],
      "text/latex": "\\begin{center}\n\\begin{tabular}{lcccccc}\n\\toprule\n                                      & \\textbf{coef} & \\textbf{std err} & \\textbf{t} & \\textbf{P$> |$t$|$} & \\textbf{[0.025} & \\textbf{0.975]}  \\\\\n\\midrule\n\\textbf{Intercept}                    &    6394.8515  &      695.287     &     9.197  &         0.000        &     5014.900    &     7774.803     \\\\\n\\textbf{C(Invitation\\_training)[T.1]} &     -99.8510  &      266.021     &    -0.375  &         0.708        &     -627.828    &      428.126     \\\\\n\\textbf{Propensity\\_score}            &    -503.4635  &     1540.203     &    -0.327  &         0.744        &    -3560.339    &     2553.412     \\\\\n\\bottomrule\n\\end{tabular}\n\\end{center}"
     },
     "execution_count": 11,
     "metadata": {},
     "output_type": "execute_result"
    }
   ],
   "execution_count": 11
  },
  {
   "metadata": {},
   "cell_type": "markdown",
   "source": "I have almost same result as before: training reduces wage by 99.85 CHF and is not significant",
   "id": "b8b7d572ac9ae43d"
  },
  {
   "metadata": {
    "ExecuteTime": {
     "end_time": "2025-03-12T09:40:40.828296Z",
     "start_time": "2025-03-12T09:40:40.725815Z"
    }
   },
   "cell_type": "code",
   "source": "OLS.params['C(Invitation_training)[T.1]']",
   "id": "3ec8451712dba9f2",
   "outputs": [
    {
     "data": {
      "text/plain": [
       "-99.8510103027154"
      ]
     },
     "execution_count": 12,
     "metadata": {},
     "output_type": "execute_result"
    }
   ],
   "execution_count": 12
  },
  {
   "metadata": {},
   "cell_type": "markdown",
   "source": "#### 2.3. Propensity score matching",
   "id": "3c9d785054f49820"
  },
  {
   "metadata": {},
   "cell_type": "markdown",
   "source": [
    "1) Ps matching is an estimator that matches a treated with a non-treated observation based on their Ps (also possible with X variables). E.g.: T=1 having Ps=0.7 is match with T=0 having Ps=0.7: u compute then their difference in Y; This process is done for all observations and the Average treatment effect (ATT) is the average of all the invididual differences.\n",
    "2) Possible to do matching based on k closest neighbors and use average outcome of the k observations as counterfactual.\n",
    "3) This estimator is sensible on the quality of the match: if matches aren't good, might get a biased estimator"
   ],
   "id": "2f5a316695aea6f4"
  },
  {
   "metadata": {
    "ExecuteTime": {
     "end_time": "2025-03-12T09:40:46.130202Z",
     "start_time": "2025-03-12T09:40:40.939704Z"
    }
   },
   "cell_type": "code",
   "source": [
    "from sklearn.neighbors import KNeighborsRegressor\n",
    "\n",
    "y, T, X = 'Wage', 'Invitation_training', 'Propensity_score'\n",
    "\n",
    "treated = data_ps.query(f\"{T}==1\")\n",
    "non_treated = data_ps.query(f\"{T}==0\")\n",
    "\n",
    "mt0 = KNeighborsRegressor(n_neighbors=1).fit(non_treated[[X]], non_treated[y]) #Need [[X]] to get a 2D and not a pandas series 1D using [X], which is allowed for outcome y --> [y]\n",
    "mt1 = KNeighborsRegressor(n_neighbors=1).fit(treated[[X]], treated[y])\n",
    "\n",
    "predicted = pd.concat([treated.assign(match=mt0.predict(treated[[X]])), non_treated.assign(match=mt1.predict(non_treated[[X]]))]) #using assign creates a copy of treated, non_treated but created new df predicted\n",
    "\n",
    "ATE = np.mean((predicted[y]-predicted['match'])*predicted[T]+(predicted['match']-predicted[y])*(1-predicted[T]))"
   ],
   "id": "a93edb7ea7f5e895",
   "outputs": [],
   "execution_count": 13
  },
  {
   "metadata": {},
   "cell_type": "markdown",
   "source": [
    "1) Creation of 2 samples with only treated or non-treated observations\n",
    "2) Creation of 2 models to predict y, based on treated or non_treated data: KNneigbors uses the k (here 1) nearest neighbors in terms of X (here Ps) and use the average of y of the k observations as the prediction y.\n",
    "3) Concatenation of the 2 samples into 1, also adding a new column match which is the prediction of the outcome if observation was opposite treatment group. Concatenation based on axis=0, rows one under the other, so we have first the treated sample observations and under it the non_treated obseravations\n",
    "4) Use the formula of the matching estimator to get the ATE\n"
   ],
   "id": "d6a1d3b761e388f8"
  },
  {
   "metadata": {
    "ExecuteTime": {
     "end_time": "2025-03-12T09:40:46.272320Z",
     "start_time": "2025-03-12T09:40:46.250516Z"
    }
   },
   "cell_type": "code",
   "source": "print(f\"ATE of matching estimator based on Ps: {ATE}\")",
   "id": "e29160d802624ae0",
   "outputs": [
    {
     "name": "stdout",
     "output_type": "stream",
     "text": [
      "ATE of matching estimator based on Ps: -300.89\n"
     ]
    }
   ],
   "execution_count": 14
  },
  {
   "metadata": {
    "ExecuteTime": {
     "end_time": "2025-03-12T09:40:46.469958Z",
     "start_time": "2025-03-12T09:40:46.456028Z"
    }
   },
   "cell_type": "code",
   "source": "isinstance(treated[[X]], pd.DataFrame), isinstance(treated[X], pd.Series)",
   "id": "a185aae8dad87e31",
   "outputs": [
    {
     "data": {
      "text/plain": [
       "(True, True)"
      ]
     },
     "execution_count": 15,
     "metadata": {},
     "output_type": "execute_result"
    }
   ],
   "execution_count": 15
  },
  {
   "metadata": {},
   "cell_type": "markdown",
   "source": "To check if DataFrame or pd.Series",
   "id": "b3c7bc61abf976b"
  },
  {
   "metadata": {},
   "cell_type": "markdown",
   "source": "#### 2.4. Inverse Probability Weighting (IPW): 1/Ps",
   "id": "44f1153a78939e91"
  },
  {
   "metadata": {},
   "cell_type": "markdown",
   "source": [
    "1) IPW reweight the observations based on their Ps: this creates a new subpopulation that adjust for confounding and selection bias\n",
    "2) Observations with high / low Ps gets less / more importance if they have characteristics X representative of the other group. E.g: T0 with Ps = 0.7 --> non_treated with characteristics of treated group, give more importance to this observation\n",
    "3) X is balanced across groups after reweighting: Treatment again as if randomly assigned because treated and non-treated are comparable in terms of X (Ps). Indeed, the weighting transform the distribution of Ps in a kind of uniform distribution for both groups so that they overlapp. Before: distribution of treated was growing in Ps and inverse for the non-treated.\n",
    "4) To sum up: Inverse Probability Weighting (IPW) adjusts the influence of each observation to create a balanced pseudo-population. Underrepresented individuals receive higher weights, amplifying their impact, while overrepresented ones get lower weights, reducing their influence. This reweighting process ensures that the distribution of covariates (or propensity scores) becomes more similar across treatment groups. As a result, IPW mimics randomization, making groups more comparable and reducing selection bias.\n",
    "5) Withdraws of IPW: might get problem when Ps close to 0 and 1 because of the weight they receive. Don't get directly statics and need to compute manually."
   ],
   "id": "3e7f81784a79ea2e"
  },
  {
   "metadata": {},
   "cell_type": "markdown",
   "source": "Formula of the ATE: E[(1(T=1)Y / P(T=1|X)] - E[1(T=0)Y / P(T=0|X)]",
   "id": "6baa9630d48708fc"
  },
  {
   "metadata": {},
   "cell_type": "markdown",
   "source": "Here we calculate first the weight, so instead of divide by Ps, we multiply by the weight",
   "id": "38193575ad59a5f3"
  },
  {
   "metadata": {
    "ExecuteTime": {
     "end_time": "2025-03-12T09:40:46.704420Z",
     "start_time": "2025-03-12T09:40:46.670710Z"
    }
   },
   "cell_type": "code",
   "source": [
    "weight_treated = 1 / data_ps.query(f'{T}==1')['Propensity_score'] #weight = 1/Ps\n",
    "weight_non_treated = 1 / (1-(data_ps.query(f'{T}==0')['Propensity_score']))"
   ],
   "id": "1599120f437ae90e",
   "outputs": [],
   "execution_count": 16
  },
  {
   "metadata": {
    "ExecuteTime": {
     "end_time": "2025-03-12T09:40:46.858212Z",
     "start_time": "2025-03-12T09:40:46.827697Z"
    }
   },
   "cell_type": "code",
   "source": [
    "t1 = data_ps.query(f'{T}==1')[y] #to get column of outcome for T=1\n",
    "t0 = data_ps.query(f'{T}==0')[y]"
   ],
   "id": "18eb3af31e4c423d",
   "outputs": [],
   "execution_count": 17
  },
  {
   "metadata": {
    "ExecuteTime": {
     "end_time": "2025-03-12T09:40:47.016036Z",
     "start_time": "2025-03-12T09:40:47.004923Z"
    }
   },
   "cell_type": "code",
   "source": [
    "y1 = sum(t1 * weight_treated) / len(data_ps) # apply separatly the formula of ATE: Expectation of y1\n",
    "y0 = sum(t0 * weight_non_treated) / len(data_ps) # expectation of y0"
   ],
   "id": "50f96e51939de904",
   "outputs": [],
   "execution_count": 18
  },
  {
   "metadata": {
    "ExecuteTime": {
     "end_time": "2025-03-12T09:40:47.078289Z",
     "start_time": "2025-03-12T09:40:47.056758Z"
    }
   },
   "cell_type": "code",
   "source": [
    "ATE = y1 - y0\n",
    "print(f\"IPW result is: ATE = {ATE:.2f}\")"
   ],
   "id": "6d7636ddbdc691ff",
   "outputs": [
    {
     "name": "stdout",
     "output_type": "stream",
     "text": [
      "IPW result is: ATE = -142.49\n"
     ]
    }
   ],
   "execution_count": 19
  },
  {
   "metadata": {},
   "cell_type": "markdown",
   "source": "Possible to use a simplified formula of ATE: E[Y* ((T-P_score/P_score*(1-P_score))]",
   "id": "63e67c58eb7f4497"
  },
  {
   "metadata": {
    "ExecuteTime": {
     "end_time": "2025-03-12T09:40:47.201424Z",
     "start_time": "2025-03-12T09:40:47.187824Z"
    }
   },
   "cell_type": "code",
   "source": [
    "ATE = np.mean(data_ps[y] * (data_ps[T] - data_ps['Propensity_score']) / (data_ps['Propensity_score']*(1-data_ps['Propensity_score'])))\n",
    "print(f'{ATE:.2f}')"
   ],
   "id": "858f13d1b27b9851",
   "outputs": [
    {
     "name": "stdout",
     "output_type": "stream",
     "text": [
      "-142.49\n"
     ]
    }
   ],
   "execution_count": 20
  },
  {
   "metadata": {},
   "cell_type": "markdown",
   "source": "Now creating a bootstrapp to calculate statistics",
   "id": "cb927405c0df6f81"
  },
  {
   "metadata": {
    "ExecuteTime": {
     "end_time": "2025-03-12T09:40:47.386357Z",
     "start_time": "2025-03-12T09:40:47.370665Z"
    }
   },
   "cell_type": "code",
   "source": [
    "from joblib import Parallel, delayed #used to do different task in heart of processor at same time --> earn time\n",
    "\n",
    "def Bootstrap(data, function, rounds=999, seed=123, CI=[2.5, 97.5]):\n",
    "    np.random.seed(seed)\n",
    "    statistics = Parallel(n_jobs=4)( #here statistics creates a list of averages calculated in each sample\n",
    "        delayed(function)(data.sample(frac=1, replace=True)) #data.sample recreate a new data of same size with replacement\n",
    "        for _ in range(rounds)\n",
    "    )\n",
    "    return np.percentile(statistics, CI) #np.percentile(takes list of number, a percentile to calculate)"
   ],
   "id": "d9df639dfdbd1e1a",
   "outputs": [],
   "execution_count": 21
  },
  {
   "metadata": {},
   "cell_type": "markdown",
   "source": [
    "My Bootsrapp function need to get a function inside to calcul its statistics, i need then to create a function of my ATE.\n",
    "1) Careful, need to assign first y, T to column of data"
   ],
   "id": "211d66fcca49a7e3"
  },
  {
   "metadata": {
    "ExecuteTime": {
     "end_time": "2025-03-12T09:40:47.545623Z",
     "start_time": "2025-03-12T09:40:47.526988Z"
    }
   },
   "cell_type": "code",
   "source": [
    "def IPW_ATE(data: pd.DataFrame) -> float: #indications to remember type of variables to include\n",
    "\n",
    "    ATE = np.mean(data[y] * (data[T] - data['Propensity_score']) / (data['Propensity_score']*(1-data['Propensity_score'])))\n",
    "    return ATE"
   ],
   "id": "7bafadbdac965baf",
   "outputs": [],
   "execution_count": 22
  },
  {
   "metadata": {
    "ExecuteTime": {
     "end_time": "2025-03-12T09:40:50.954347Z",
     "start_time": "2025-03-12T09:40:47.644151Z"
    }
   },
   "cell_type": "code",
   "source": [
    "result = Bootstrap(data_ps, IPW_ATE)\n",
    "effect = IPW_ATE(data_ps)\n",
    "print(f\"ATE of {effect:.2f} with a 95% CI: {result}\")"
   ],
   "id": "c3b9aea34f770298",
   "outputs": [
    {
     "name": "stdout",
     "output_type": "stream",
     "text": [
      "ATE of -142.49 with a 95% CI: [-2716.19909046  2175.26898059]\n"
     ]
    }
   ],
   "execution_count": 23
  },
  {
   "metadata": {},
   "cell_type": "markdown",
   "source": "Confidence interval containing the 0, the result of the difference is not significant!",
   "id": "3fc1a4e14597e29e"
  },
  {
   "metadata": {
    "ExecuteTime": {
     "end_time": "2025-03-12T09:40:51.169302Z",
     "start_time": "2025-03-12T09:40:51.150336Z"
    }
   },
   "cell_type": "code",
   "source": [
    "lower, upper = result #to have better representation\n",
    "print(f\"ATE: {effect:.2f}; 95% CI: [{lower:.2f}, {upper:.2f}]\")"
   ],
   "id": "afb1956170a42fb3",
   "outputs": [
    {
     "name": "stdout",
     "output_type": "stream",
     "text": [
      "ATE: -142.49; 95% CI: [-2716.20, 2175.27]\n"
     ]
    }
   ],
   "execution_count": 24
  },
  {
   "metadata": {},
   "cell_type": "markdown",
   "source": "#### 2.5. Doubly Robust (DR) estimator",
   "id": "312d2666cfd207c5"
  },
  {
   "metadata": {},
   "cell_type": "markdown",
   "source": [
    "1) Combine outcome estimation and propensity score estimation: usually Lr and logistic model (but can also be other models)\n",
    "2) Yt: ûtDR(m,e) = E[m(X)] + E[(T/e(x))*(Y-m(X)] ; where e(x) = P-Score\n",
    "3) Allow to have an unbiased estimator if at least one of the two models is correctly specified --> get true ATE\n",
    "4) If outcome estimation correct --> right part of equation = 0, and we directly get the correct outcome estimation\n",
    "5) If p_score correct, the left part (rearranged) = 0 and we get the IPW model on the right which estimates correctly outcome because the p_score is also correct"
   ],
   "id": "2dd9728af417b9e"
  },
  {
   "metadata": {},
   "cell_type": "markdown",
   "source": "ATE : u1DR(m,e) - u0DR(m,e) ; where e = estimated p_score and m estimated outcome model",
   "id": "768729eadc6a8f1d"
  },
  {
   "metadata": {
    "ExecuteTime": {
     "end_time": "2025-03-12T09:40:51.495922Z",
     "start_time": "2025-03-12T09:40:51.326544Z"
    }
   },
   "cell_type": "code",
   "source": [
    "from sklearn.linear_model import LinearRegression\n",
    "from sklearn.linear_model import LogisticRegression\n",
    "from patsy import dmatrix\n",
    "\n",
    "def doubly_robust(data, formula, T, y):\n",
    "    X = dmatrix(formula, data)\n",
    "    ps_model = LogisticRegression(penalty=None, max_iter=1000).fit(X, data[T])\n",
    "    ps = ps_model.predict_proba(X)[:,1] #return 2 columns: P(T=0|X) and P(T=1|X) --> [:,1] to get only Ps to be treated\n",
    "    mu0 = LinearRegression().fit(X[data[T] == 0, :], data.query(f'{T}==0')[y])\n",
    "    mu1 = LinearRegression().fit(X[data[T] == 1, :], data.query(f'{T}==1')[y])\n",
    "    mu0_hat = mu0.predict(X)\n",
    "    mu1_hat = mu1.predict(X)\n",
    "    return (\n",
    "        np.mean(data[T]*(data[y] - mu1_hat)/ps + mu1_hat) - np.mean((1-data[T])*(data[y] - mu0_hat)/(1-ps)+mu0_hat)\n",
    "    )"
   ],
   "id": "8d07d980fac47f96",
   "outputs": [],
   "execution_count": 25
  },
  {
   "metadata": {},
   "cell_type": "markdown",
   "source": [
    "1) Explanation of the code:\n",
    "2) dmatrix transforms data into statistics form (e.g.: C(Gender) is directly transformed into dummy. Possible to add into return_type='dataframe' to get variables in df type.\n",
    "3) Use predict_proba for logistic model to get probabilities because predict returns 0 or 1 as outcome. CAREFUL, with statsmodels, predict gives the probabilities !!!\n",
    "4) X[data[T] == 0, :] is the same as data.query but because of the form of dmatrix, cannot use it there.\n",
    "5) DR returns ATE with its formula"
   ],
   "id": "286b0e7137b91f6d"
  },
  {
   "metadata": {
    "ExecuteTime": {
     "end_time": "2025-03-12T09:40:52.106605Z",
     "start_time": "2025-03-12T09:40:51.736708Z"
    }
   },
   "cell_type": "code",
   "source": [
    "data = df_yC_TB\n",
    "formula = 'C(Gender) + Education + Age'\n",
    "T = 'Invitation_training'\n",
    "y = 'Wage'\n",
    "result = doubly_robust(data, formula, T, y)\n",
    "print(f\"ATE of DR estimator: {result:.2f}\")"
   ],
   "id": "37f788f8376fbc1c",
   "outputs": [
    {
     "name": "stdout",
     "output_type": "stream",
     "text": [
      "ATE of DR estimator: -109.22\n"
     ]
    }
   ],
   "execution_count": 26
  },
  {
   "metadata": {},
   "cell_type": "markdown",
   "source": "Try to reproduce DR estimator using statsmodels",
   "id": "f616b286254eb279"
  },
  {
   "metadata": {
    "ExecuteTime": {
     "end_time": "2025-03-12T09:40:52.200704Z",
     "start_time": "2025-03-12T09:40:52.181760Z"
    }
   },
   "cell_type": "code",
   "source": [
    "def Doubly_robust_Statsmodels(data, X, T, y):\n",
    "    ps_score = smf.logit(f'{T}~{X}', data = data).fit(disp=0)\n",
    "    ps = ps_score.predict(data)\n",
    "    treated = data.query(f'{T}==1')\n",
    "    non_treated = data.query(f'{T}==0')\n",
    "    mu0 = smf.ols(f'{y}~{X}', data=treated).fit()\n",
    "    mu1 = smf.ols(f'{y}~{X}', data=non_treated).fit()\n",
    "    mu0_hat = mu0.predict(data)\n",
    "    mu1_hat = mu1.predict(data)\n",
    "    return (\n",
    "        np.mean(data[T]*(data[y] - mu1_hat)/ps + mu1_hat) - np.mean((1-data[T])*(data[y] - mu0_hat)/(1-ps)+mu0_hat)\n",
    "    )"
   ],
   "id": "acefcbda95d347da",
   "outputs": [],
   "execution_count": 27
  },
  {
   "metadata": {
    "ExecuteTime": {
     "end_time": "2025-03-12T09:40:52.466989Z",
     "start_time": "2025-03-12T09:40:52.299070Z"
    }
   },
   "cell_type": "code",
   "source": [
    "data = df_yC_TB\n",
    "X = 'C(Gender) + Education + Age'\n",
    "T = 'Invitation_training'\n",
    "y = 'Wage'"
   ],
   "id": "d069ea892b1926a9",
   "outputs": [],
   "execution_count": 28
  },
  {
   "metadata": {
    "ExecuteTime": {
     "end_time": "2025-03-12T09:40:52.908646Z",
     "start_time": "2025-03-12T09:40:52.601807Z"
    }
   },
   "cell_type": "code",
   "source": [
    "result = Doubly_robust_Statsmodels(data, X, T, y)\n",
    "print(f'ATE of DR using statsmodels: {result:.2f}')"
   ],
   "id": "28999565e1296ed4",
   "outputs": [
    {
     "name": "stdout",
     "output_type": "stream",
     "text": [
      "ATE of DR using statsmodels: -106.47\n"
     ]
    }
   ],
   "execution_count": 29
  },
  {
   "metadata": {},
   "cell_type": "markdown",
   "source": "Time to run some statistics",
   "id": "29b29189d1372a13"
  },
  {
   "metadata": {
    "ExecuteTime": {
     "end_time": "2025-03-12T09:41:04.270538Z",
     "start_time": "2025-03-12T09:40:53.078548Z"
    }
   },
   "cell_type": "code",
   "source": [
    "from toolz import partial\n",
    "\n",
    "stats = partial(doubly_robust, formula=formula, T=T, y=y)\n",
    "print(f\"95% CI : {Bootstrap(df_yC_TB, stats)}\")\n"
   ],
   "id": "5d49e4cf3082e44b",
   "outputs": [
    {
     "name": "stdout",
     "output_type": "stream",
     "text": [
      "95% CI : [-641.86603929  417.05463053]\n"
     ]
    }
   ],
   "execution_count": 30
  },
  {
   "metadata": {
    "ExecuteTime": {
     "end_time": "2025-03-12T09:41:23.768013Z",
     "start_time": "2025-03-12T09:41:04.401335Z"
    }
   },
   "cell_type": "code",
   "source": [
    "stats = partial(Doubly_robust_Statsmodels, X=X, T=T, y=y)\n",
    "print(f\"95% CI : {Bootstrap(df_yC_TB, stats)}\")"
   ],
   "id": "7e574d25e0fe53a6",
   "outputs": [
    {
     "name": "stdout",
     "output_type": "stream",
     "text": [
      "95% CI : [-622.20144663  417.72740923]\n"
     ]
    }
   ],
   "execution_count": 31
  },
  {
   "metadata": {},
   "cell_type": "markdown",
   "source": [
    "1) Partial allow to keep some argument of a function fixed: partial(function, arguments to keep fix)\n",
    "2) So allow doing Bootstrapp without having to specify each time what are the variables of the function in DR"
   ],
   "id": "1bcc46d62fe13269"
  },
  {
   "metadata": {},
   "cell_type": "markdown",
   "source": "Estimating propensity score for Continuous treatement variables",
   "id": "b2ceb2d81bbbfe0d"
  },
  {
   "metadata": {},
   "cell_type": "markdown",
   "source": "#### 2.6. Generalized propensity score for continuous treatment",
   "id": "a0e7326763731dcd"
  },
  {
   "metadata": {},
   "cell_type": "markdown",
   "source": [
    "1) More complicated with continous treatment: first problem is that P(T=t)=0 because the probability of a continuous variable is 0 everywhere because the proba is represented by the area under the density, and the area under a single point = 0.\n",
    "2) Solution is to work with conditional density function f(T|X) instead of conditional probability P(T=t|X)\n",
    "3) But next problem is that we need to assume a distribution of the treatment. E.g. normal distribution"
   ],
   "id": "19c6fd4059d41bb4"
  },
  {
   "metadata": {
    "ExecuteTime": {
     "end_time": "2025-03-12T09:41:23.955170Z",
     "start_time": "2025-03-12T09:41:23.927996Z"
    }
   },
   "cell_type": "code",
   "source": "df_yC_TC.columns",
   "id": "c8796aaa58689d5d",
   "outputs": [
    {
     "data": {
      "text/plain": [
       "Index(['Wage', 'Subvention', 'Gender', 'Education', 'Age'], dtype='object')"
      ]
     },
     "execution_count": 32,
     "metadata": {},
     "output_type": "execute_result"
    }
   ],
   "execution_count": 32
  },
  {
   "metadata": {
    "ExecuteTime": {
     "end_time": "2025-03-12T09:41:24.280445Z",
     "start_time": "2025-03-12T09:41:24.235455Z"
    }
   },
   "cell_type": "code",
   "source": "df_yC_TC.dtypes",
   "id": "70041af91c8672bf",
   "outputs": [
    {
     "data": {
      "text/plain": [
       "Wage          int32\n",
       "Subvention    int32\n",
       "Gender        int32\n",
       "Education     int32\n",
       "Age           int32\n",
       "dtype: object"
      ]
     },
     "execution_count": 33,
     "metadata": {},
     "output_type": "execute_result"
    }
   ],
   "execution_count": 33
  },
  {
   "metadata": {
    "ExecuteTime": {
     "end_time": "2025-03-12T09:41:24.579969Z",
     "start_time": "2025-03-12T09:41:24.557225Z"
    }
   },
   "cell_type": "code",
   "source": "df_yC_TC[['Subvention', 'Wage']] = df_yC_TC[['Subvention', 'Wage']].astype('float')",
   "id": "3593e2f42f12e238",
   "outputs": [],
   "execution_count": 34
  },
  {
   "metadata": {
    "ExecuteTime": {
     "end_time": "2025-03-12T09:41:24.969602Z",
     "start_time": "2025-03-12T09:41:24.934161Z"
    }
   },
   "cell_type": "code",
   "source": "df_yC_TC[['Subvention', 'Wage']].dtypes",
   "id": "dccf197b21059526",
   "outputs": [
    {
     "data": {
      "text/plain": [
       "Subvention    float64\n",
       "Wage          float64\n",
       "dtype: object"
      ]
     },
     "execution_count": 35,
     "metadata": {},
     "output_type": "execute_result"
    }
   ],
   "execution_count": 35
  },
  {
   "metadata": {
    "ExecuteTime": {
     "end_time": "2025-03-12T09:41:33.187401Z",
     "start_time": "2025-03-12T09:41:25.549071Z"
    }
   },
   "cell_type": "code",
   "source": [
    "from causal_curve import GPS_Regressor\n",
    "gps = GPS_Regressor()\n",
    "gps.fit(T = df_yC_TC['Subvention'], X = df_yC_TC[['Gender', 'Education', 'Age']], y = df_yC_TC['Wage'])\n",
    "gps_result = gps.calculate_CDRC(0.95)"
   ],
   "id": "bb6b9724bb3ad778",
   "outputs": [
    {
     "name": "stderr",
     "output_type": "stream",
     "text": [
      "C:\\Users\\Jonathan\\PycharmProjects\\pythonProject\\projetAnaylse\\venv\\lib\\site-packages\\statsmodels\\genmod\\families\\links.py:13: FutureWarning: The inverse_power link alias is deprecated. Use InversePower instead. The inverse_power link alias will be removed after the 0.15.0 release.\n",
      "  warnings.warn(\n"
     ]
    }
   ],
   "execution_count": 36
  },
  {
   "metadata": {
    "ExecuteTime": {
     "end_time": "2025-03-12T09:41:33.458415Z",
     "start_time": "2025-03-12T09:41:33.431666Z"
    }
   },
   "cell_type": "code",
   "source": "gps_result.columns",
   "id": "a0372ed73ab08e8e",
   "outputs": [
    {
     "data": {
      "text/plain": [
       "Index(['Treatment', 'Causal_Dose_Response', 'Lower_CI', 'Upper_CI'], dtype='object')"
      ]
     },
     "execution_count": 37,
     "metadata": {},
     "output_type": "execute_result"
    }
   ],
   "execution_count": 37
  },
  {
   "metadata": {},
   "cell_type": "markdown",
   "source": "This method is good to produce a graph then to represent the causality",
   "id": "7e67b77cf5f685c3"
  },
  {
   "metadata": {
    "ExecuteTime": {
     "end_time": "2025-03-12T09:41:37.801482Z",
     "start_time": "2025-03-12T09:41:33.564553Z"
    }
   },
   "cell_type": "code",
   "source": [
    "import matplotlib.pyplot as plt\n",
    "\n",
    "plt.figure(figsize=(4,4))\n",
    "plt.plot(gps_result['Treatment'], gps_result['Causal_Dose_Response'], color='black', linewidth=2, label='GPS')\n",
    "plt.plot(gps_result['Treatment'], gps_result['Lower_CI'], color='red', linestyle='--', label='95% CI')\n",
    "plt.plot(gps_result['Treatment'], gps_result['Upper_CI'], color='red', linestyle='--')\n",
    "plt.xlabel('Treatment: Subvention')\n",
    "plt.ylabel('Outcome: Wage')\n",
    "plt.title('Causal effect of Subvention on Wage')\n",
    "plt.grid(color='gray', alpha=0.1)\n",
    "plt.legend(loc='upper left')\n",
    "plt.show()"
   ],
   "id": "f818d1edb1727b2c",
   "outputs": [
    {
     "data": {
      "text/plain": [
       "<Figure size 400x400 with 1 Axes>"
      ],
      "image/png": "[encoded data removed]"
     },
     "metadata": {},
     "output_type": "display_data"
    }
   ],
   "execution_count": 38
  },
  {
   "metadata": {},
   "cell_type": "markdown",
   "source": "Now to get the ATE for this method with Continous treatment and Continuous outcome",
   "id": "e7b23d40b1ae3754"
  },
  {
   "metadata": {
    "ExecuteTime": {
     "end_time": "2025-03-12T09:41:38.039774Z",
     "start_time": "2025-03-12T09:41:37.939027Z"
    }
   },
   "cell_type": "code",
   "source": [
    "model_t = smf.ols('Subvention~C(Gender) + Education + Age', data=df_yC_TC).fit() #use then fittes values as mean and sd of residual as sd\n",
    "\n",
    "from scipy.stats import norm\n",
    "gps = norm(loc=model_t.fittedvalues, scale=np.std(model_t.resid)).pdf(df_yC_TC['Subvention'])\n",
    "final_model = smf.wls('Wage~Subvention', data=df_yC_TC, weights= 1/gps).fit()\n",
    "result = final_model.params['Subvention']\n",
    "print(f'ATE: {result:.2f}')"
   ],
   "id": "54862131c385bcb9",
   "outputs": [
    {
     "name": "stdout",
     "output_type": "stream",
     "text": [
      "ATE: 1.65\n"
     ]
    }
   ],
   "execution_count": 39
  },
  {
   "metadata": {},
   "cell_type": "markdown",
   "source": [
    "We needed to assume a distribution for the treatment, decided normal distribution:\n",
    "1) Estimate treatment with linear reg\n",
    "2) create the generalized propensity score (gps) with normal distribution using prediction of Subvention as mean and sd of residuals of Lr as sd and all this estimated at given treatment\n",
    "3) Just regress Y on T, using weighted least square and using weights\n",
    "4) Problem of method: give lots of weights to observations far of the regression --> create high variance: Need to stabilize the weights with marginal density"
   ],
   "id": "2ba11ed10269face"
  },
  {
   "metadata": {
    "ExecuteTime": {
     "end_time": "2025-03-12T09:41:38.265411Z",
     "start_time": "2025-03-12T09:41:38.199988Z"
    }
   },
   "cell_type": "code",
   "source": [
    "stabilizer = norm(\n",
    "    loc = df_yC_TC['Subvention'].mean(),\n",
    "    scale = np.std(df_yC_TC['Subvention'] - df_yC_TC['Subvention'].mean()) #usually dont need write diff: but already np.sdt(df_cont_t['interest'])\n",
    "    ).pdf(df_yC_TC['Subvention'])\n",
    "gipw = stabilizer/gps #new weights stabilized\n",
    "final_model = smf.wls('Wage~Subvention', data=df_yC_TC, weights=gipw).fit()\n",
    "result = final_model.params['Subvention']\n",
    "print(f'ATE stabilized: {result:.2f}')"
   ],
   "id": "ac4313599381b766",
   "outputs": [
    {
     "name": "stdout",
     "output_type": "stream",
     "text": [
      "ATE stabilized: 1.11\n"
     ]
    }
   ],
   "execution_count": 40
  },
  {
   "metadata": {},
   "cell_type": "markdown",
   "source": "To get the statistics, again, need to create a function of the ATE with gps, and then pass it into the bootstrapp function",
   "id": "5d0579aab7db40c7"
  },
  {
   "metadata": {
    "ExecuteTime": {
     "end_time": "2025-03-12T09:41:38.515343Z",
     "start_time": "2025-03-12T09:41:38.358287Z"
    }
   },
   "cell_type": "code",
   "source": [
    "from scipy.stats import norm\n",
    "def ATE_gps(data, X, T, y):\n",
    "    model_t = smf.ols(f'{T}~{X}', data=data).fit()\n",
    "    gps = norm(loc=model_t.fittedvalues, scale=np.std(model_t.resid)).pdf(data[f'{T}'])\n",
    "    final_model = smf.wls(f'{y}~{T}', data=data, weights= 1/gps).fit()\n",
    "    result = final_model.params[f'{T}']\n",
    "    return result"
   ],
   "id": "24e717cddfeaae89",
   "outputs": [],
   "execution_count": 41
  },
  {
   "metadata": {
    "ExecuteTime": {
     "end_time": "2025-03-12T09:41:38.839818Z",
     "start_time": "2025-03-12T09:41:38.612612Z"
    }
   },
   "cell_type": "code",
   "source": [
    "data = df_yC_TC\n",
    "X = 'C(Gender) + Education + Age'\n",
    "T = 'Subvention'\n",
    "y = 'Wage'\n",
    "ATE_gps(data, X, T, y)"
   ],
   "id": "98d16f908327f6a8",
   "outputs": [
    {
     "data": {
      "text/plain": [
       "1.650949947891732"
      ]
     },
     "execution_count": 42,
     "metadata": {},
     "output_type": "execute_result"
    }
   ],
   "execution_count": 42
  },
  {
   "metadata": {
    "ExecuteTime": {
     "end_time": "2025-03-12T09:41:39.088698Z",
     "start_time": "2025-03-12T09:41:39.028060Z"
    }
   },
   "cell_type": "code",
   "source": [
    "from scipy.stats import norm\n",
    "def ATE_stab(data, X, T, y):\n",
    "    model_t = smf.ols(f'{T}~{X}', data=data).fit()\n",
    "    gps = norm(loc=model_t.fittedvalues, scale=np.std(model_t.resid)).pdf(data[f'{T}'])\n",
    "    stabilizer = norm(\n",
    "    loc = data[f'{T}'].mean(),\n",
    "    scale = np.std(data[f'{T}'] - data[f'{T}'].mean()) #usually dont need write diff: but already np.sdt(df_cont_t['interest'])\n",
    "    ).pdf(data[f'{T}'])\n",
    "    gipw = stabilizer/gps #new weights stabilized\n",
    "    final_model = smf.wls(f'{y}~{T}', data=data, weights=gipw).fit()\n",
    "    result = final_model.params[f'{T}']\n",
    "    return result"
   ],
   "id": "4ba1739d17e1046",
   "outputs": [],
   "execution_count": 43
  },
  {
   "metadata": {
    "ExecuteTime": {
     "end_time": "2025-03-12T09:41:39.413097Z",
     "start_time": "2025-03-12T09:41:39.171938Z"
    }
   },
   "cell_type": "code",
   "source": [
    "a =ATE_stab(data, X, T, y)\n",
    "a"
   ],
   "id": "f86cffaaed671795",
   "outputs": [
    {
     "data": {
      "text/plain": [
       "1.1062186138105754"
      ]
     },
     "execution_count": 44,
     "metadata": {},
     "output_type": "execute_result"
    }
   ],
   "execution_count": 44
  },
  {
   "metadata": {},
   "cell_type": "markdown",
   "source": "Now that functions have been created, introduce into bootstrapp",
   "id": "eef6af1883f05a11"
  },
  {
   "metadata": {
    "ExecuteTime": {
     "end_time": "2025-03-12T09:41:47.537223Z",
     "start_time": "2025-03-12T09:41:39.673821Z"
    }
   },
   "cell_type": "code",
   "source": [
    "from toolz import partial\n",
    "\n",
    "stats = partial(ATE_stab, X=X, T=T, y=y)\n",
    "CID, CIU = Bootstrap(df_yC_TC, stats) #data, statistic\n",
    "print(f\"ATE_stab: {a:.2f}, 95% CI : ({CID:.4f}, {CIU:.4f})\")"
   ],
   "id": "6ef33badaf2345f8",
   "outputs": [
    {
     "name": "stdout",
     "output_type": "stream",
     "text": [
      "ATE_stab: 1.11, 95% CI : (-1.2189, 2.9583)\n"
     ]
    }
   ],
   "execution_count": 45
  },
  {
   "metadata": {},
   "cell_type": "markdown",
   "source": "### 4. Effect heterogeneity and personalization: Conditional average treatment effect (CATE)",
   "id": "b36be347c3293b2c"
  },
  {
   "metadata": {},
   "cell_type": "markdown",
   "source": "Think that treatment affects differently depending on the background characteristics X. Want to know then the effect for the different groups and apply the treatment to the ones where effect on outcome is the higher.",
   "id": "3d397831876ed9ba"
  },
  {
   "metadata": {},
   "cell_type": "markdown",
   "source": [
    "1) Conditioning on X means to allow treatment effect to be different depending on the characteristics\n",
    "2) Careful, prediction is not best to find personalization of the treatment, because we search for different slopes into data and not at outcome. We want to split data into different segment to see which groups react best with treatment. We want to predict the slope of outcome based on treatment for each unit, which is the problem again in causal analysis because cannot see each unit into different treatment levels / states.\n",
    "3) CATE: want to predict: dY/dT"
   ],
   "id": "8afafaa522516ed1"
  },
  {
   "metadata": {},
   "cell_type": "markdown",
   "source": "Import new data for CATE: question is to know when to give discounts to customers: where discounts where randomized",
   "id": "667a17ba6d4b0eaf"
  },
  {
   "metadata": {
    "ExecuteTime": {
     "end_time": "2025-03-12T09:41:48.098006Z",
     "start_time": "2025-03-12T09:41:47.699691Z"
    }
   },
   "cell_type": "code",
   "source": [
    "data = pd.read_csv(\"C:\\\\Users\\\\Jonathan\\\\PycharmProjects\\\\Raw data\\\\daily_restaurant_sales.csv\")\n",
    "data.head(2)"
   ],
   "id": "9b85c758ad3c710b",
   "outputs": [
    {
     "data": {
      "text/plain": [
       "   rest_id         day  month  weekday  weekend  is_holiday  is_dec  is_nov  \\\n",
       "0        0  2016-01-01      1        4    False        True   False   False   \n",
       "1        0  2016-01-02      1        5     True       False   False   False   \n",
       "\n",
       "   competitors_price  discounts  sales  \n",
       "0               2.88          0   79.0  \n",
       "1               2.64          0   57.0  "
      ],
      "text/html": [
       "<div>\n",
       "<style scoped>\n",
       "    .dataframe tbody tr th:only-of-type {\n",
       "        vertical-align: middle;\n",
       "    }\n",
       "\n",
       "    .dataframe tbody tr th {\n",
       "        vertical-align: top;\n",
       "    }\n",
       "\n",
       "    .dataframe thead th {\n",
       "        text-align: right;\n",
       "    }\n",
       "</style>\n",
       "<table border=\"1\" class=\"dataframe\">\n",
       "  <thead>\n",
       "    <tr style=\"text-align: right;\">\n",
       "      <th></th>\n",
       "      <th>rest_id</th>\n",
       "      <th>day</th>\n",
       "      <th>month</th>\n",
       "      <th>weekday</th>\n",
       "      <th>weekend</th>\n",
       "      <th>is_holiday</th>\n",
       "      <th>is_dec</th>\n",
       "      <th>is_nov</th>\n",
       "      <th>competitors_price</th>\n",
       "      <th>discounts</th>\n",
       "      <th>sales</th>\n",
       "    </tr>\n",
       "  </thead>\n",
       "  <tbody>\n",
       "    <tr>\n",
       "      <th>0</th>\n",
       "      <td>0</td>\n",
       "      <td>2016-01-01</td>\n",
       "      <td>1</td>\n",
       "      <td>4</td>\n",
       "      <td>False</td>\n",
       "      <td>True</td>\n",
       "      <td>False</td>\n",
       "      <td>False</td>\n",
       "      <td>2.88</td>\n",
       "      <td>0</td>\n",
       "      <td>79.0</td>\n",
       "    </tr>\n",
       "    <tr>\n",
       "      <th>1</th>\n",
       "      <td>0</td>\n",
       "      <td>2016-01-02</td>\n",
       "      <td>1</td>\n",
       "      <td>5</td>\n",
       "      <td>True</td>\n",
       "      <td>False</td>\n",
       "      <td>False</td>\n",
       "      <td>False</td>\n",
       "      <td>2.64</td>\n",
       "      <td>0</td>\n",
       "      <td>57.0</td>\n",
       "    </tr>\n",
       "  </tbody>\n",
       "</table>\n",
       "</div>"
      ]
     },
     "execution_count": 46,
     "metadata": {},
     "output_type": "execute_result"
    }
   ],
   "execution_count": 46
  },
  {
   "metadata": {},
   "cell_type": "markdown",
   "source": "Unit here day-restaurant combination",
   "id": "3b377dea4df280af"
  },
  {
   "metadata": {},
   "cell_type": "markdown",
   "source": "#### 4.1. CATE with Regression",
   "id": "6aa354a332343893"
  },
  {
   "metadata": {},
   "cell_type": "markdown",
   "source": [
    "1) When estimating ATE: with regression, we get the b1 coeff: which is the constant effect for everyone\n",
    "2) Simply add some interaction terms between the Treatment and the Covariates X: if we differentiate again by t, we now obtain the following effect: b1 + b3*Xi. We can see then the changes in slope by a change in X."
   ],
   "id": "40723b53411b870f"
  },
  {
   "metadata": {
    "ExecuteTime": {
     "end_time": "2025-03-12T09:41:48.503503Z",
     "start_time": "2025-03-12T09:41:48.493644Z"
    }
   },
   "cell_type": "code",
   "source": "import statsmodels.formula.api as smf",
   "id": "c959fe632b5984e1",
   "outputs": [],
   "execution_count": 47
  },
  {
   "metadata": {
    "ExecuteTime": {
     "end_time": "2025-03-12T09:41:49.175700Z",
     "start_time": "2025-03-12T09:41:48.725729Z"
    }
   },
   "cell_type": "code",
   "source": [
    "X = ['C(month)', 'C(weekday)', 'is_holiday', 'competitors_price']\n",
    "reg_CATE = smf.ols(f'sales~discounts*{\"+\".join(X)}', data=data).fit()"
   ],
   "id": "d48f234cfa332eea",
   "outputs": [],
   "execution_count": 48
  },
  {
   "metadata": {},
   "cell_type": "markdown",
   "source": "Now that we have our CATE model, we need to estimate / predict the slope. To do so, need to use the definition of derivative, and by approximating it, we find that dy/dt = y(t+1) - y(t)",
   "id": "6ac3e7c16a8ce498"
  },
  {
   "metadata": {},
   "cell_type": "markdown",
   "source": "We need so to estimate y(t+1) and y(t): we have 2 predictions to do.",
   "id": "d78d04f972f44c4d"
  },
  {
   "metadata": {
    "ExecuteTime": {
     "end_time": "2025-03-12T09:41:49.394924Z",
     "start_time": "2025-03-12T09:41:49.241964Z"
    }
   },
   "cell_type": "code",
   "source": [
    "first_pred = reg_CATE.predict(data.assign(discounts=data['discounts']+1))\n",
    "second_pred = reg_CATE.predict(data)\n",
    "ols_cate_pred = first_pred - second_pred"
   ],
   "id": "23e5b0dc1f85f302",
   "outputs": [],
   "execution_count": 49
  },
  {
   "metadata": {},
   "cell_type": "markdown",
   "source": "ols_cate_pred has a vector of slope prediction for each individual = CATE prediction",
   "id": "35a1c582ddedf3d2"
  },
  {
   "metadata": {},
   "cell_type": "markdown",
   "source": "We now have to find a way to evaluate this model, because we have the prediction of the CATE, but cannot compare predictions to actual values of data because actual treatment effect is not observed at a unit level!",
   "id": "9cee0e306870ff7a"
  },
  {
   "metadata": {},
   "cell_type": "markdown",
   "source": [
    "1) Using ML to do predictions and evaluation: e.g. Cross-validation\n",
    "2) Define a benchmark model: random model to see if CATE better than a naive model\n",
    "3) To compare and evaluate models in terms of unobservable truth (true cate), need to measure treatment effect not by individuals but small groups"
   ],
   "id": "8212466a607b8f71"
  },
  {
   "metadata": {
    "ExecuteTime": {
     "end_time": "2025-03-12T09:41:49.863849Z",
     "start_time": "2025-03-12T09:41:49.476040Z"
    }
   },
   "cell_type": "code",
   "source": [
    "train = data.query('day<\"2018-01-01\"')\n",
    "test = data.query('day>=\"2018-01-01\"')"
   ],
   "id": "7cb03eac2ec23be",
   "outputs": [],
   "execution_count": 50
  },
  {
   "metadata": {
    "ExecuteTime": {
     "end_time": "2025-03-12T09:41:50.143350Z",
     "start_time": "2025-03-12T09:41:50.019239Z"
    }
   },
   "cell_type": "code",
   "source": [
    "X = ['C(month)', 'C(weekday)', 'is_holiday', 'competitors_price']\n",
    "reg_CATE = smf.ols(f'sales~discounts*({\"+\".join(X)})', data=train).fit() #only train data"
   ],
   "id": "a2eb50632bf74a75",
   "outputs": [],
   "execution_count": 51
  },
  {
   "metadata": {
    "ExecuteTime": {
     "end_time": "2025-03-12T09:41:50.472563Z",
     "start_time": "2025-03-12T09:41:50.241782Z"
    }
   },
   "cell_type": "code",
   "source": [
    "first_pred = reg_CATE.predict(test.assign(discounts=test['discounts']+1))\n",
    "second_pred = reg_CATE.predict(test)\n",
    "cate_pred = first_pred - second_pred"
   ],
   "id": "e322a79159307bfe",
   "outputs": [],
   "execution_count": 52
  },
  {
   "metadata": {},
   "cell_type": "markdown",
   "source": "Model creation and predictions on different datasets. Now create 2 new models to compare later",
   "id": "2207228770f59db1"
  },
  {
   "metadata": {
    "ExecuteTime": {
     "end_time": "2025-03-12T09:41:51.238418Z",
     "start_time": "2025-03-12T09:41:50.618922Z"
    }
   },
   "cell_type": "code",
   "source": [
    "from sklearn.ensemble import GradientBoostingRegressor\n",
    "\n",
    "X = ['month', 'weekday', 'is_holiday', 'competitors_price', 'discounts']\n",
    "y = ['sales']\n",
    "np.random.seed(1)\n",
    "ml_model = GradientBoostingRegressor(n_estimators=50).fit(train[X], train[y])\n",
    "ml_pred = ml_model.predict(test[X])"
   ],
   "id": "26e862e71485ae60",
   "outputs": [],
   "execution_count": 53
  },
  {
   "metadata": {
    "ExecuteTime": {
     "end_time": "2025-03-12T09:41:51.380579Z",
     "start_time": "2025-03-12T09:41:51.355408Z"
    }
   },
   "cell_type": "code",
   "source": [
    "np.random.seed(123)\n",
    "random_pred = np.random.uniform(-1, 1, len(test))"
   ],
   "id": "a8b615f8ae8b1c10",
   "outputs": [],
   "execution_count": 54
  },
  {
   "metadata": {
    "ExecuteTime": {
     "end_time": "2025-03-12T09:41:51.518247Z",
     "start_time": "2025-03-12T09:41:51.492464Z"
    }
   },
   "cell_type": "code",
   "source": [
    "test_pred = test.assign(\n",
    "    ml_pred=ml_pred,\n",
    "    cate_pred=cate_pred,\n",
    "    random_pred=random_pred\n",
    ")"
   ],
   "id": "fae93488a277374c",
   "outputs": [],
   "execution_count": 55
  },
  {
   "metadata": {
    "ExecuteTime": {
     "end_time": "2025-03-12T09:41:51.776564Z",
     "start_time": "2025-03-12T09:41:51.685006Z"
    }
   },
   "cell_type": "code",
   "source": "test_pred.head(5)",
   "id": "ac08a50208ed007e",
   "outputs": [
    {
     "data": {
      "text/plain": [
       "     rest_id         day  month  weekday  weekend  is_holiday  is_dec  is_nov  \\\n",
       "731        0  2018-01-01      1        0    False        True   False   False   \n",
       "732        0  2018-01-02      1        1    False       False   False   False   \n",
       "733        0  2018-01-03      1        2    False       False   False   False   \n",
       "734        0  2018-01-04      1        3    False       False   False   False   \n",
       "735        0  2018-01-05      1        4    False       False   False   False   \n",
       "\n",
       "     competitors_price  discounts  sales     ml_pred  cate_pred  random_pred  \n",
       "731               4.92          5  251.5  236.312960  41.355802     0.392938  \n",
       "732               3.06         10  541.0  470.218050  44.743887    -0.427721  \n",
       "733               4.61         10  431.0  429.180652  39.783798    -0.546297  \n",
       "734               4.84         20  760.0  769.159322  40.770278     0.102630  \n",
       "735               6.29          0   78.0   83.426070  40.666949     0.438938  "
      ],
      "text/html": [
       "<div>\n",
       "<style scoped>\n",
       "    .dataframe tbody tr th:only-of-type {\n",
       "        vertical-align: middle;\n",
       "    }\n",
       "\n",
       "    .dataframe tbody tr th {\n",
       "        vertical-align: top;\n",
       "    }\n",
       "\n",
       "    .dataframe thead th {\n",
       "        text-align: right;\n",
       "    }\n",
       "</style>\n",
       "<table border=\"1\" class=\"dataframe\">\n",
       "  <thead>\n",
       "    <tr style=\"text-align: right;\">\n",
       "      <th></th>\n",
       "      <th>rest_id</th>\n",
       "      <th>day</th>\n",
       "      <th>month</th>\n",
       "      <th>weekday</th>\n",
       "      <th>weekend</th>\n",
       "      <th>is_holiday</th>\n",
       "      <th>is_dec</th>\n",
       "      <th>is_nov</th>\n",
       "      <th>competitors_price</th>\n",
       "      <th>discounts</th>\n",
       "      <th>sales</th>\n",
       "      <th>ml_pred</th>\n",
       "      <th>cate_pred</th>\n",
       "      <th>random_pred</th>\n",
       "    </tr>\n",
       "  </thead>\n",
       "  <tbody>\n",
       "    <tr>\n",
       "      <th>731</th>\n",
       "      <td>0</td>\n",
       "      <td>2018-01-01</td>\n",
       "      <td>1</td>\n",
       "      <td>0</td>\n",
       "      <td>False</td>\n",
       "      <td>True</td>\n",
       "      <td>False</td>\n",
       "      <td>False</td>\n",
       "      <td>4.92</td>\n",
       "      <td>5</td>\n",
       "      <td>251.5</td>\n",
       "      <td>236.312960</td>\n",
       "      <td>41.355802</td>\n",
       "      <td>0.392938</td>\n",
       "    </tr>\n",
       "    <tr>\n",
       "      <th>732</th>\n",
       "      <td>0</td>\n",
       "      <td>2018-01-02</td>\n",
       "      <td>1</td>\n",
       "      <td>1</td>\n",
       "      <td>False</td>\n",
       "      <td>False</td>\n",
       "      <td>False</td>\n",
       "      <td>False</td>\n",
       "      <td>3.06</td>\n",
       "      <td>10</td>\n",
       "      <td>541.0</td>\n",
       "      <td>470.218050</td>\n",
       "      <td>44.743887</td>\n",
       "      <td>-0.427721</td>\n",
       "    </tr>\n",
       "    <tr>\n",
       "      <th>733</th>\n",
       "      <td>0</td>\n",
       "      <td>2018-01-03</td>\n",
       "      <td>1</td>\n",
       "      <td>2</td>\n",
       "      <td>False</td>\n",
       "      <td>False</td>\n",
       "      <td>False</td>\n",
       "      <td>False</td>\n",
       "      <td>4.61</td>\n",
       "      <td>10</td>\n",
       "      <td>431.0</td>\n",
       "      <td>429.180652</td>\n",
       "      <td>39.783798</td>\n",
       "      <td>-0.546297</td>\n",
       "    </tr>\n",
       "    <tr>\n",
       "      <th>734</th>\n",
       "      <td>0</td>\n",
       "      <td>2018-01-04</td>\n",
       "      <td>1</td>\n",
       "      <td>3</td>\n",
       "      <td>False</td>\n",
       "      <td>False</td>\n",
       "      <td>False</td>\n",
       "      <td>False</td>\n",
       "      <td>4.84</td>\n",
       "      <td>20</td>\n",
       "      <td>760.0</td>\n",
       "      <td>769.159322</td>\n",
       "      <td>40.770278</td>\n",
       "      <td>0.102630</td>\n",
       "    </tr>\n",
       "    <tr>\n",
       "      <th>735</th>\n",
       "      <td>0</td>\n",
       "      <td>2018-01-05</td>\n",
       "      <td>1</td>\n",
       "      <td>4</td>\n",
       "      <td>False</td>\n",
       "      <td>False</td>\n",
       "      <td>False</td>\n",
       "      <td>False</td>\n",
       "      <td>6.29</td>\n",
       "      <td>0</td>\n",
       "      <td>78.0</td>\n",
       "      <td>83.426070</td>\n",
       "      <td>40.666949</td>\n",
       "      <td>0.438938</td>\n",
       "    </tr>\n",
       "  </tbody>\n",
       "</table>\n",
       "</div>"
      ]
     },
     "execution_count": 56,
     "metadata": {},
     "output_type": "execute_result"
    }
   ],
   "execution_count": 56
  },
  {
   "metadata": {},
   "cell_type": "markdown",
   "source": "#### 4.1.1 Effect by Model Quantile",
   "id": "6c0ee9a469010b14"
  },
  {
   "metadata": {},
   "cell_type": "markdown",
   "source": [
    "1) The CATE prediction allow then to order the observations / units per sensitivity to the treatment: ordering units less sensitive to most sensitive to the treatment.\n",
    "2) You can evaluate groups defined by the ordering. Segment data by quantiles of the cate prediction and estimate the effect by quantile. If the estimated effect in each quantile is ordered, the cate model is also good at ordering the true CATE."
   ],
   "id": "3ff8fe7564b9b40e"
  },
  {
   "metadata": {
    "ExecuteTime": {
     "end_time": "2025-03-12T09:41:52.228161Z",
     "start_time": "2025-03-12T09:41:52.217642Z"
    }
   },
   "cell_type": "code",
   "source": [
    "from toolz import curry\n",
    "\n",
    "@curry\n",
    "def effect(data, y, t):\n",
    "    return (np.sum((data[t] - data[t].mean())* data[y]) /\n",
    "            np.sum((data[t] - data[t].mean())**2))"
   ],
   "id": "e66f0988e8407470",
   "outputs": [],
   "execution_count": 57
  },
  {
   "metadata": {},
   "cell_type": "markdown",
   "source": "@curry allows to partially apply function, and to have only argument being data frame. This function applied to whole test set gives the ATE.",
   "id": "469ac1c27eb8dd7c"
  },
  {
   "metadata": {
    "ExecuteTime": {
     "end_time": "2025-03-12T09:41:52.524973Z",
     "start_time": "2025-03-12T09:41:52.350756Z"
    }
   },
   "cell_type": "code",
   "source": [
    "def effect_by_quantile(df, pred, y, t, q=10):\n",
    "    groups = np.round(pd.IntervalIndex(pd.qcut(df[pred], q=q)).mid, 2) #quantile partitions\n",
    "    return (df.assign(**{f\"{pred}_quantile\": groups}).groupby(f\"{pred}_quantile\", group_keys=False).apply(effect(y=y, t=t)))"
   ],
   "id": "d7dc3150de3086d5",
   "outputs": [],
   "execution_count": 58
  },
  {
   "metadata": {
    "ExecuteTime": {
     "end_time": "2025-03-12T12:17:56.995762Z",
     "start_time": "2025-03-12T12:17:56.955446Z"
    }
   },
   "cell_type": "code",
   "source": [
    "z = effect_by_quantile(test_pred, 'cate_pred', y='sales', t='discounts')\n",
    "z"
   ],
   "id": "46b7d35e4a00fc85",
   "outputs": [
    {
     "name": "stderr",
     "output_type": "stream",
     "text": [
      "C:\\Users\\Jonathan\\AppData\\Local\\Temp\\ipykernel_18920\\2057200387.py:3: DeprecationWarning: DataFrameGroupBy.apply operated on the grouping columns. This behavior is deprecated, and in a future version of pandas the grouping columns will be excluded from the operation. Either pass `include_groups=False` to exclude the groupings or explicitly select the grouping columns after groupby to silence this warning.\n",
      "  return (df.assign(**{f\"{pred}_quantile\": groups}).groupby(f\"{pred}_quantile\", group_keys=False).apply(effect(y=y, t=t)))\n"
     ]
    },
    {
     "data": {
      "text/plain": [
       "cate_pred_quantile\n",
       "17.50    20.494153\n",
       "23.93    24.782101\n",
       "26.85    27.494156\n",
       "28.95    28.833993\n",
       "30.81    29.604257\n",
       "32.68    32.216500\n",
       "34.65    35.889459\n",
       "36.75    36.846889\n",
       "39.40    39.125449\n",
       "47.36    44.272549\n",
       "dtype: float64"
      ]
     },
     "execution_count": 75,
     "metadata": {},
     "output_type": "execute_result"
    }
   ],
   "execution_count": 75
  },
  {
   "metadata": {
    "ExecuteTime": {
     "end_time": "2025-03-12T12:06:42.842507Z",
     "start_time": "2025-03-12T12:06:42.826835Z"
    }
   },
   "cell_type": "code",
   "source": "test_pred['discounts'].max()",
   "id": "bcea4f7b9ab6fb27",
   "outputs": [
    {
     "data": {
      "text/plain": [
       "40"
      ]
     },
     "execution_count": 73,
     "metadata": {},
     "output_type": "execute_result"
    }
   ],
   "execution_count": 73
  },
  {
   "metadata": {
    "ExecuteTime": {
     "end_time": "2025-03-12T09:41:54.582721Z",
     "start_time": "2025-03-12T09:41:54.549652Z"
    }
   },
   "cell_type": "code",
   "source": "z.index",
   "id": "c71370fca2168df0",
   "outputs": [
    {
     "data": {
      "text/plain": [
       "Index([17.5, 23.93, 26.85, 28.95, 30.81, 32.68, 34.65, 36.75, 39.4, 47.36], dtype='float64', name='cate_pred_quantile')"
      ]
     },
     "execution_count": 60,
     "metadata": {},
     "output_type": "execute_result"
    }
   ],
   "execution_count": 60
  },
  {
   "metadata": {},
   "cell_type": "markdown",
   "source": "1) Observations: quantile left and effect right: we see that effects increase by quantiles --> this show that the CATE prediction is indeed ordering the effect! Second, the midpoint prediction in each quantile (index column) is close to the effect for the same quantile --> CATE not only order the true CATE well, but also predict the True CATE correctly!",
   "id": "8f1a67a922c9402f"
  },
  {
   "metadata": {
    "ExecuteTime": {
     "end_time": "2025-03-12T09:41:55.582026Z",
     "start_time": "2025-03-12T09:41:55.072613Z"
    }
   },
   "cell_type": "code",
   "source": [
    "import matplotlib.pyplot as plt\n",
    "plt.figure(figsize=(5,5), facecolor='lightblue')\n",
    "plt.bar(x=z.index, height=z['effect'])\n",
    "plt.xlabel('cate_pred_quantile')\n",
    "plt.ylabel('effect')\n",
    "plt.xticks(z.index, rotation=90)\n",
    "plt.show()"
   ],
   "id": "881cb3a32baac905",
   "outputs": [
    {
     "data": {
      "text/plain": [
       "<Figure size 500x500 with 1 Axes>"
      ],
      "image/png": "[encoded data removed]"
     },
     "metadata": {},
     "output_type": "display_data"
    }
   ],
   "execution_count": 61
  },
  {
   "metadata": {},
   "cell_type": "markdown",
   "source": "It is then possible to compare models with differents plots to see which one is the best (the steaper the stairshape). But can be possible also to compare with only one value, which is easier to understand",
   "id": "82cc93d7dbc24ee6"
  },
  {
   "metadata": {
    "ExecuteTime": {
     "end_time": "2025-03-12T09:41:56.764495Z",
     "start_time": "2025-03-12T09:41:55.838660Z"
    }
   },
   "cell_type": "code",
   "source": [
    "def cumulative_gain_curve(df, prediction, y, t, ascending=False, normalize=False, steps=100):\n",
    "    effect_fn = effect(t=t, y=y)\n",
    "    normalizer = effect_fn(df) if normalize else 0\n",
    "    size = len(df)\n",
    "    ordered_df = (df.sort_values(prediction, ascending=ascending).reset_index(drop=True))\n",
    "    steps = np.linspace(size / steps, size, steps).round(0)\n",
    "    effects = [(effect_fn(ordered_df.query(f\"index<={row}\")) - normalizer)*(row/size)for row in steps]\n",
    "    return np.array([0] + effects)\n",
    "gain = cumulative_gain_curve(test_pred, \"cate_pred\", \"sales\", \"discounts\")\n",
    "gain"
   ],
   "id": "2b0d1d5af687ddcf",
   "outputs": [
    {
     "data": {
      "text/plain": [
       "array([ 0.        ,  0.50387597,  0.982917  ,  1.38863289,  1.83046877,\n",
       "        2.2690746 ,  2.71880783,  3.13779256,  3.57577084,  4.01798404,\n",
       "        4.42379877,  4.83861979,  5.23242282,  5.62890903,  5.98551452,\n",
       "        6.38159081,  6.74402024,  7.13257317,  7.5088165 ,  7.9068624 ,\n",
       "        8.26968674,  8.63441305,  9.03646968,  9.41649072,  9.76869065,\n",
       "       10.13172457, 10.48178647, 10.85654343, 11.20031099, 11.57715392,\n",
       "       11.88179285, 12.22484979, 12.65329367, 13.00147394, 13.35835129,\n",
       "       13.75177168, 14.08571614, 14.44720258, 14.8206963 , 15.16915263,\n",
       "       15.48942971, 15.87058782, 16.18483861, 16.5889676 , 16.87711862,\n",
       "       17.226077  , 17.51523959, 17.85547549, 18.1943502 , 18.48062947,\n",
       "       18.77790182, 19.05825319, 19.38214231, 19.7240743 , 20.00659491,\n",
       "       20.35269886, 20.65268403, 20.93862963, 21.18225404, 21.53351325,\n",
       "       21.82793867, 22.09450014, 22.38142964, 22.62161465, 22.87752468,\n",
       "       23.11063608, 23.3799479 , 23.70688475, 23.97456335, 24.32208947,\n",
       "       24.59360922, 24.91557817, 25.20590966, 25.51965521, 25.81042645,\n",
       "       26.10331578, 26.33901594, 26.6396965 , 26.89011363, 27.16213357,\n",
       "       27.44788562, 27.60976683, 27.92564404, 28.15503057, 28.47433643,\n",
       "       28.68239331, 28.91615935, 29.12294194, 29.39723028, 29.59660012,\n",
       "       29.8672981 , 30.10511301, 30.40516978, 30.69778369, 30.9021028 ,\n",
       "       31.17575982, 31.43719771, 31.66657828, 31.82346463, 32.00615008,\n",
       "       32.16196368])"
      ]
     },
     "execution_count": 62,
     "metadata": {},
     "output_type": "execute_result"
    }
   ],
   "execution_count": 62
  },
  {
   "metadata": {
    "ExecuteTime": {
     "end_time": "2025-03-12T09:41:57.261958Z",
     "start_time": "2025-03-12T09:41:57.239552Z"
    }
   },
   "cell_type": "code",
   "source": "print(f\"AUC for cate_pred: {sum(gain)}\")",
   "id": "6f6eda19a8856b89",
   "outputs": [
    {
     "name": "stdout",
     "output_type": "stream",
     "text": [
      "AUC for cate_pred: 1805.9206376114457\n"
     ]
    }
   ],
   "execution_count": 63
  },
  {
   "metadata": {},
   "cell_type": "markdown",
   "source": "Compare this area with other models and better is higher number! AUC for area under the curve.",
   "id": "efb4bcf46269c4cf"
  },
  {
   "metadata": {},
   "cell_type": "markdown",
   "source": "#### 4.1.1.1. Target transformation (quantile)",
   "id": "4747d11363c45b07"
  },
  {
   "metadata": {},
   "cell_type": "markdown",
   "source": "Possible to create a target variable that approximates the true treatment effect of the quantile in expectations. This allows then to use MSE to evaluate model. Careful, due to the model approximation, target close to the treatment average will have a denominator close to 0, need then to use weights to recover the problem, such as (Ti-ut(Xi))^2",
   "id": "d9ffcf18e0b4372a"
  },
  {
   "metadata": {},
   "cell_type": "markdown",
   "source": "1) Create the target, which is the residual of outcome regression divided by residual of treatment regression",
   "id": "4fe3e524efc75c26"
  },
  {
   "metadata": {
    "ExecuteTime": {
     "end_time": "2025-03-12T09:45:43.667173Z",
     "start_time": "2025-03-12T09:45:43.514548Z"
    }
   },
   "cell_type": "code",
   "source": [
    "X = [\"C(month)\", \"C(weekday)\", \"is_holiday\", \"competitors_price\"]\n",
    "resid_y = smf.ols(f\"sales~{'+'.join(X)}\", data=test).fit().resid\n",
    "resid_t = smf.ols(f\"discounts~{'+'.join(X)}\", data=test).fit().resid\n",
    "tau_hat = resid_y/resid_t #target"
   ],
   "id": "ac10604532dde79e",
   "outputs": [],
   "execution_count": 66
  },
  {
   "metadata": {},
   "cell_type": "markdown",
   "source": "2. Compare each model in terms of MSE when targeting tau_hat",
   "id": "e1707627b2652d72"
  },
  {
   "metadata": {
    "ExecuteTime": {
     "end_time": "2025-03-12T09:51:34.552881Z",
     "start_time": "2025-03-12T09:51:34.525474Z"
    }
   },
   "cell_type": "code",
   "source": [
    "from sklearn.metrics import mean_squared_error\n",
    "\n",
    "for i in ['ml_pred', 'random_pred', 'cate_pred']:\n",
    "    mse = mean_squared_error(tau_hat, test_pred[i], sample_weight=resid_t**2) #mse(true_y, y_pred, weight)\n",
    "    print(f\"MSE of {i} model: {mse}\")\n"
   ],
   "id": "a014c4e1da4a3780",
   "outputs": [
    {
     "name": "stdout",
     "output_type": "stream",
     "text": [
      "MSE of ml_pred model: 576256.7425385385\n",
      "MSE of random_pred model: 1115.803515760459\n",
      "MSE of cate_pred model: 42.90447405550277\n"
     ]
    }
   ],
   "execution_count": 69
  },
  {
   "metadata": {},
   "cell_type": "markdown",
   "source": "We can again see with the MSE that the best model is the CATE. It is also interesting to see that ml model is worst than the random because it aims at outcome, and not the quantile!",
   "id": "97cd6d38b1e035bc"
  },
  {
   "metadata": {},
   "cell_type": "markdown",
   "source": "#### 4.2. Summary of effect heterogeneity",
   "id": "cca006e22a000810"
  },
  {
   "metadata": {},
   "cell_type": "markdown",
   "source": [
    "1) want to know the causal effect of each unit to better allocate the treatment. But in causal inference, cannot know each unit causal effect: it is unobservable.\n",
    "2) If u assume that the causal effect depends on observable variables X, u can go from ATE to Conditional Average Treatment Effect (CATE). CATE allows knowing how causal effect changes depending on X variables.\n",
    "3) Quantile creates k groups of same size with observations close in terms of X variables. Then, it is possible to estimate the ATE in each of the groups to see where the treatment has more effect on the outcome, this gives the CATE.\n",
    "4) It is then possible to estimate groups effect: using linear regression by just adding interaction terms between treatment and covariates: CATE(X)=dY/dT=β1+β3X\n",
    "5) Easiest way to compare then models to see which is best is by creating target and evaluating with MSE\n",
    "6) RANDOMIZED DATA IS VERY IMPORTANT TO DO CATE ESTIMATION, NOT TO HAVE BIASED ESTIMATES!!!\n",
    "7) Quantile vs percentile: represent k groups of same size based on chara X vs value for which k% of observations are equal or below"
   ],
   "id": "5f68930021add469"
  }
 ],
 "metadata": {
  "kernelspec": {
   "display_name": "Python 3",
   "language": "python",
   "name": "python3"
  },
  "language_info": {
   "codemirror_mode": {
    "name": "ipython",
    "version": 2
   },
   "file_extension": ".py",
   "mimetype": "text/x-python",
   "name": "python",
   "nbconvert_exporter": "python",
   "pygments_lexer": "ipython2",
   "version": "2.7.6"
  }
 },
 "nbformat": 4,
 "nbformat_minor": 5
}
