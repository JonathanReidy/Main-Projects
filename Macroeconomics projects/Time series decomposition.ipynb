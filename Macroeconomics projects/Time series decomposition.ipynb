{
 "cells": [
  {
   "cell_type": "code",
   "id": "initial_id",
   "metadata": {
    "collapsed": true,
    "ExecuteTime": {
     "end_time": "2025-04-17T19:17:23.653353Z",
     "start_time": "2025-04-17T19:17:17.245724Z"
    }
   },
   "source": [
    "import pandas as pd\n",
    "import numpy as np\n",
    "import matplotlib.pyplot as plt"
   ],
   "outputs": [],
   "execution_count": 1
  },
  {
   "metadata": {
    "ExecuteTime": {
     "end_time": "2025-04-17T20:42:10.517047Z",
     "start_time": "2025-04-17T20:42:10.203570Z"
    }
   },
   "cell_type": "code",
   "source": "df = pd.read_csv('C:\\\\Users\\\\Jonathan\\\\PycharmProjects\\\\Raw data\\\\Gross Domestic Product.csv')",
   "id": "1bccaf0f7704a893",
   "outputs": [],
   "execution_count": 12
  },
  {
   "metadata": {
    "ExecuteTime": {
     "end_time": "2025-04-17T20:42:13.120138Z",
     "start_time": "2025-04-17T20:42:13.094062Z"
    }
   },
   "cell_type": "code",
   "source": "df.shape",
   "id": "1e30a9ae51617e02",
   "outputs": [
    {
     "data": {
      "text/plain": [
       "(312, 2)"
      ]
     },
     "execution_count": 13,
     "metadata": {},
     "output_type": "execute_result"
    }
   ],
   "execution_count": 13
  },
  {
   "metadata": {
    "ExecuteTime": {
     "end_time": "2025-04-17T20:42:14.813631Z",
     "start_time": "2025-04-17T20:42:14.723981Z"
    }
   },
   "cell_type": "code",
   "source": "df.head()",
   "id": "313921ae5ae05987",
   "outputs": [
    {
     "data": {
      "text/plain": [
       "  observation_date  NA000334Q\n",
       "0       1947-01-01      58497\n",
       "1       1947-04-01      60672\n",
       "2       1947-07-01      62196\n",
       "3       1947-10-01      68250\n",
       "4       1948-01-01      64258"
      ],
      "text/html": [
       "<div>\n",
       "<style scoped>\n",
       "    .dataframe tbody tr th:only-of-type {\n",
       "        vertical-align: middle;\n",
       "    }\n",
       "\n",
       "    .dataframe tbody tr th {\n",
       "        vertical-align: top;\n",
       "    }\n",
       "\n",
       "    .dataframe thead th {\n",
       "        text-align: right;\n",
       "    }\n",
       "</style>\n",
       "<table border=\"1\" class=\"dataframe\">\n",
       "  <thead>\n",
       "    <tr style=\"text-align: right;\">\n",
       "      <th></th>\n",
       "      <th>observation_date</th>\n",
       "      <th>NA000334Q</th>\n",
       "    </tr>\n",
       "  </thead>\n",
       "  <tbody>\n",
       "    <tr>\n",
       "      <th>0</th>\n",
       "      <td>1947-01-01</td>\n",
       "      <td>58497</td>\n",
       "    </tr>\n",
       "    <tr>\n",
       "      <th>1</th>\n",
       "      <td>1947-04-01</td>\n",
       "      <td>60672</td>\n",
       "    </tr>\n",
       "    <tr>\n",
       "      <th>2</th>\n",
       "      <td>1947-07-01</td>\n",
       "      <td>62196</td>\n",
       "    </tr>\n",
       "    <tr>\n",
       "      <th>3</th>\n",
       "      <td>1947-10-01</td>\n",
       "      <td>68250</td>\n",
       "    </tr>\n",
       "    <tr>\n",
       "      <th>4</th>\n",
       "      <td>1948-01-01</td>\n",
       "      <td>64258</td>\n",
       "    </tr>\n",
       "  </tbody>\n",
       "</table>\n",
       "</div>"
      ]
     },
     "execution_count": 14,
     "metadata": {},
     "output_type": "execute_result"
    }
   ],
   "execution_count": 14
  }
 ],
 "metadata": {
  "kernelspec": {
   "display_name": "Python 3",
   "language": "python",
   "name": "python3"
  },
  "language_info": {
   "codemirror_mode": {
    "name": "ipython",
    "version": 2
   },
   "file_extension": ".py",
   "mimetype": "text/x-python",
   "name": "python",
   "nbconvert_exporter": "python",
   "pygments_lexer": "ipython2",
   "version": "2.7.6"
  }
 },
 "nbformat": 4,
 "nbformat_minor": 5
}
