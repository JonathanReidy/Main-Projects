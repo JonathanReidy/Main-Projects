{
 "cells": [
  {
   "cell_type": "code",
   "id": "initial_id",
   "metadata": {
    "collapsed": true,
    "ExecuteTime": {
     "end_time": "2025-05-04T19:14:33.983489Z",
     "start_time": "2025-05-04T19:14:33.972967Z"
    }
   },
   "source": [
    "from os import rename\n",
    "\n",
    "import pandas as pd\n",
    "import numpy as np\n",
    "import matplotlib.pyplot as plt"
   ],
   "outputs": [],
   "execution_count": 169
  },
  {
   "metadata": {
    "ExecuteTime": {
     "end_time": "2025-05-04T19:14:34.014491Z",
     "start_time": "2025-05-04T19:14:34.002814Z"
    }
   },
   "cell_type": "code",
   "source": "df = pd.read_csv('C:\\\\Users\\\\Jonathan\\\\PycharmProjects\\\\Raw data\\\\Gross Domestic Product.csv')",
   "id": "1bccaf0f7704a893",
   "outputs": [],
   "execution_count": 170
  },
  {
   "metadata": {
    "ExecuteTime": {
     "end_time": "2025-05-04T19:14:34.046113Z",
     "start_time": "2025-05-04T19:14:34.032128Z"
    }
   },
   "cell_type": "code",
   "source": "df.shape",
   "id": "1e30a9ae51617e02",
   "outputs": [
    {
     "data": {
      "text/plain": [
       "(312, 2)"
      ]
     },
     "execution_count": 171,
     "metadata": {},
     "output_type": "execute_result"
    }
   ],
   "execution_count": 171
  },
  {
   "metadata": {
    "ExecuteTime": {
     "end_time": "2025-05-04T19:14:34.092334Z",
     "start_time": "2025-05-04T19:14:34.072771Z"
    }
   },
   "cell_type": "code",
   "source": "df.size",
   "id": "16e614d9dfc22d9c",
   "outputs": [
    {
     "data": {
      "text/plain": [
       "624"
      ]
     },
     "execution_count": 172,
     "metadata": {},
     "output_type": "execute_result"
    }
   ],
   "execution_count": 172
  },
  {
   "metadata": {
    "ExecuteTime": {
     "end_time": "2025-05-04T19:14:34.123876Z",
     "start_time": "2025-05-04T19:14:34.110478Z"
    }
   },
   "cell_type": "code",
   "source": "df.columns",
   "id": "2de4fe0269ea162",
   "outputs": [
    {
     "data": {
      "text/plain": [
       "Index(['observation_date', 'NA000334Q'], dtype='object')"
      ]
     },
     "execution_count": 173,
     "metadata": {},
     "output_type": "execute_result"
    }
   ],
   "execution_count": 173
  },
  {
   "metadata": {
    "ExecuteTime": {
     "end_time": "2025-05-04T19:14:34.169959Z",
     "start_time": "2025-05-04T19:14:34.152197Z"
    }
   },
   "cell_type": "code",
   "source": "df.head()",
   "id": "313921ae5ae05987",
   "outputs": [
    {
     "data": {
      "text/plain": [
       "  observation_date  NA000334Q\n",
       "0       1947-01-01      58497\n",
       "1       1947-04-01      60672\n",
       "2       1947-07-01      62196\n",
       "3       1947-10-01      68250\n",
       "4       1948-01-01      64258"
      ],
      "text/html": [
       "<div>\n",
       "<style scoped>\n",
       "    .dataframe tbody tr th:only-of-type {\n",
       "        vertical-align: middle;\n",
       "    }\n",
       "\n",
       "    .dataframe tbody tr th {\n",
       "        vertical-align: top;\n",
       "    }\n",
       "\n",
       "    .dataframe thead th {\n",
       "        text-align: right;\n",
       "    }\n",
       "</style>\n",
       "<table border=\"1\" class=\"dataframe\">\n",
       "  <thead>\n",
       "    <tr style=\"text-align: right;\">\n",
       "      <th></th>\n",
       "      <th>observation_date</th>\n",
       "      <th>NA000334Q</th>\n",
       "    </tr>\n",
       "  </thead>\n",
       "  <tbody>\n",
       "    <tr>\n",
       "      <th>0</th>\n",
       "      <td>1947-01-01</td>\n",
       "      <td>58497</td>\n",
       "    </tr>\n",
       "    <tr>\n",
       "      <th>1</th>\n",
       "      <td>1947-04-01</td>\n",
       "      <td>60672</td>\n",
       "    </tr>\n",
       "    <tr>\n",
       "      <th>2</th>\n",
       "      <td>1947-07-01</td>\n",
       "      <td>62196</td>\n",
       "    </tr>\n",
       "    <tr>\n",
       "      <th>3</th>\n",
       "      <td>1947-10-01</td>\n",
       "      <td>68250</td>\n",
       "    </tr>\n",
       "    <tr>\n",
       "      <th>4</th>\n",
       "      <td>1948-01-01</td>\n",
       "      <td>64258</td>\n",
       "    </tr>\n",
       "  </tbody>\n",
       "</table>\n",
       "</div>"
      ]
     },
     "execution_count": 174,
     "metadata": {},
     "output_type": "execute_result"
    }
   ],
   "execution_count": 174
  },
  {
   "metadata": {
    "ExecuteTime": {
     "end_time": "2025-05-04T19:14:34.200377Z",
     "start_time": "2025-05-04T19:14:34.189573Z"
    }
   },
   "cell_type": "code",
   "source": "df.tail()",
   "id": "5c5f8fd1a1043a99",
   "outputs": [
    {
     "data": {
      "text/plain": [
       "    observation_date  NA000334Q\n",
       "307       2023-10-01    7159264\n",
       "308       2024-01-01    6997823\n",
       "309       2024-04-01    7290539\n",
       "310       2024-07-01    7364675\n",
       "311       2024-10-01    7556019"
      ],
      "text/html": [
       "<div>\n",
       "<style scoped>\n",
       "    .dataframe tbody tr th:only-of-type {\n",
       "        vertical-align: middle;\n",
       "    }\n",
       "\n",
       "    .dataframe tbody tr th {\n",
       "        vertical-align: top;\n",
       "    }\n",
       "\n",
       "    .dataframe thead th {\n",
       "        text-align: right;\n",
       "    }\n",
       "</style>\n",
       "<table border=\"1\" class=\"dataframe\">\n",
       "  <thead>\n",
       "    <tr style=\"text-align: right;\">\n",
       "      <th></th>\n",
       "      <th>observation_date</th>\n",
       "      <th>NA000334Q</th>\n",
       "    </tr>\n",
       "  </thead>\n",
       "  <tbody>\n",
       "    <tr>\n",
       "      <th>307</th>\n",
       "      <td>2023-10-01</td>\n",
       "      <td>7159264</td>\n",
       "    </tr>\n",
       "    <tr>\n",
       "      <th>308</th>\n",
       "      <td>2024-01-01</td>\n",
       "      <td>6997823</td>\n",
       "    </tr>\n",
       "    <tr>\n",
       "      <th>309</th>\n",
       "      <td>2024-04-01</td>\n",
       "      <td>7290539</td>\n",
       "    </tr>\n",
       "    <tr>\n",
       "      <th>310</th>\n",
       "      <td>2024-07-01</td>\n",
       "      <td>7364675</td>\n",
       "    </tr>\n",
       "    <tr>\n",
       "      <th>311</th>\n",
       "      <td>2024-10-01</td>\n",
       "      <td>7556019</td>\n",
       "    </tr>\n",
       "  </tbody>\n",
       "</table>\n",
       "</div>"
      ]
     },
     "execution_count": 175,
     "metadata": {},
     "output_type": "execute_result"
    }
   ],
   "execution_count": 175
  },
  {
   "metadata": {
    "ExecuteTime": {
     "end_time": "2025-05-04T19:14:34.293499Z",
     "start_time": "2025-05-04T19:14:34.222884Z"
    }
   },
   "cell_type": "code",
   "source": "df.set_index('observation_date', inplace=True)",
   "id": "1587e2c7e9291a29",
   "outputs": [],
   "execution_count": 176
  },
  {
   "metadata": {
    "ExecuteTime": {
     "end_time": "2025-05-04T19:14:34.659563Z",
     "start_time": "2025-05-04T19:14:34.314188Z"
    }
   },
   "cell_type": "code",
   "source": "df.index = pd.to_datetime(df.index, errors='coerce')",
   "id": "6f76fa87e1b346b0",
   "outputs": [],
   "execution_count": 177
  },
  {
   "metadata": {
    "ExecuteTime": {
     "end_time": "2025-05-04T19:14:34.828947Z",
     "start_time": "2025-05-04T19:14:34.755222Z"
    }
   },
   "cell_type": "code",
   "source": "type(df.index)",
   "id": "c1cc02a5d7bb1137",
   "outputs": [
    {
     "data": {
      "text/plain": [
       "pandas.core.indexes.datetimes.DatetimeIndex"
      ]
     },
     "execution_count": 178,
     "metadata": {},
     "output_type": "execute_result"
    }
   ],
   "execution_count": 178
  },
  {
   "metadata": {
    "ExecuteTime": {
     "end_time": "2025-05-04T19:14:34.954308Z",
     "start_time": "2025-05-04T19:14:34.849878Z"
    }
   },
   "cell_type": "code",
   "source": "df['NA000334Q'] = pd.to_numeric(df['NA000334Q'], errors='coerce')",
   "id": "d2a734177118add7",
   "outputs": [],
   "execution_count": 179
  },
  {
   "metadata": {
    "ExecuteTime": {
     "end_time": "2025-05-04T19:14:35.078645Z",
     "start_time": "2025-05-04T19:14:34.978030Z"
    }
   },
   "cell_type": "code",
   "source": "df.dtypes",
   "id": "fca8b229328bdaf",
   "outputs": [
    {
     "data": {
      "text/plain": [
       "NA000334Q    int64\n",
       "dtype: object"
      ]
     },
     "execution_count": 180,
     "metadata": {},
     "output_type": "execute_result"
    }
   ],
   "execution_count": 180
  },
  {
   "metadata": {
    "ExecuteTime": {
     "end_time": "2025-05-04T19:14:35.433578Z",
     "start_time": "2025-05-04T19:14:35.102871Z"
    }
   },
   "cell_type": "code",
   "source": [
    "import numpy as np\n",
    "plt.figure(figsize=(6,6))\n",
    "plt.plot(df)\n",
    "plt.xlabel('TIME')\n",
    "plt.ylabel('QUANTITIES')\n",
    "plt.title('Observation of Time series')\n",
    "plt.show()"
   ],
   "id": "67d7733c9d5503d8",
   "outputs": [
    {
     "data": {
      "text/plain": [
       "<Figure size 600x600 with 1 Axes>"
      ],
      "image/png": "[encoded data removed]"
     },
     "metadata": {},
     "output_type": "display_data"
    }
   ],
   "execution_count": 181
  },
  {
   "metadata": {
    "ExecuteTime": {
     "end_time": "2025-05-04T19:14:35.479414Z",
     "start_time": "2025-05-04T19:14:35.455509Z"
    }
   },
   "cell_type": "code",
   "source": [
    "test = df.groupby(df.index.year)['NA000334Q'].mean()\n",
    "test"
   ],
   "id": "e2093753668fcb5f",
   "outputs": [
    {
     "data": {
      "text/plain": [
       "observation_date\n",
       "1947      62403.75\n",
       "1948      68617.50\n",
       "1949      68118.00\n",
       "1950      74957.00\n",
       "1951      86727.50\n",
       "           ...    \n",
       "2020    5338526.25\n",
       "2021    5920308.00\n",
       "2022    6506265.25\n",
       "2023    6931489.00\n",
       "2024    7302264.00\n",
       "Name: NA000334Q, Length: 78, dtype: float64"
      ]
     },
     "execution_count": 182,
     "metadata": {},
     "output_type": "execute_result"
    }
   ],
   "execution_count": 182
  },
  {
   "metadata": {
    "ExecuteTime": {
     "end_time": "2025-05-04T19:14:35.699102Z",
     "start_time": "2025-05-04T19:14:35.487587Z"
    }
   },
   "cell_type": "code",
   "source": [
    "plt.plot(test)\n",
    "plt.show()"
   ],
   "id": "33a8f38454e3e9ce",
   "outputs": [
    {
     "data": {
      "text/plain": [
       "<Figure size 640x480 with 1 Axes>"
      ],
      "image/png": "[encoded data removed]"
     },
     "metadata": {},
     "output_type": "display_data"
    }
   ],
   "execution_count": 183
  },
  {
   "metadata": {
    "ExecuteTime": {
     "end_time": "2025-05-04T19:14:35.730269Z",
     "start_time": "2025-05-04T19:14:35.711203Z"
    }
   },
   "cell_type": "code",
   "source": [
    "df1 = pd.DataFrame(test)\n",
    "df1"
   ],
   "id": "3d7f0dbfcbca5798",
   "outputs": [
    {
     "data": {
      "text/plain": [
       "                   NA000334Q\n",
       "observation_date            \n",
       "1947                62403.75\n",
       "1948                68617.50\n",
       "1949                68118.00\n",
       "1950                74957.00\n",
       "1951                86727.50\n",
       "...                      ...\n",
       "2020              5338526.25\n",
       "2021              5920308.00\n",
       "2022              6506265.25\n",
       "2023              6931489.00\n",
       "2024              7302264.00\n",
       "\n",
       "[78 rows x 1 columns]"
      ],
      "text/html": [
       "<div>\n",
       "<style scoped>\n",
       "    .dataframe tbody tr th:only-of-type {\n",
       "        vertical-align: middle;\n",
       "    }\n",
       "\n",
       "    .dataframe tbody tr th {\n",
       "        vertical-align: top;\n",
       "    }\n",
       "\n",
       "    .dataframe thead th {\n",
       "        text-align: right;\n",
       "    }\n",
       "</style>\n",
       "<table border=\"1\" class=\"dataframe\">\n",
       "  <thead>\n",
       "    <tr style=\"text-align: right;\">\n",
       "      <th></th>\n",
       "      <th>NA000334Q</th>\n",
       "    </tr>\n",
       "    <tr>\n",
       "      <th>observation_date</th>\n",
       "      <th></th>\n",
       "    </tr>\n",
       "  </thead>\n",
       "  <tbody>\n",
       "    <tr>\n",
       "      <th>1947</th>\n",
       "      <td>62403.75</td>\n",
       "    </tr>\n",
       "    <tr>\n",
       "      <th>1948</th>\n",
       "      <td>68617.50</td>\n",
       "    </tr>\n",
       "    <tr>\n",
       "      <th>1949</th>\n",
       "      <td>68118.00</td>\n",
       "    </tr>\n",
       "    <tr>\n",
       "      <th>1950</th>\n",
       "      <td>74957.00</td>\n",
       "    </tr>\n",
       "    <tr>\n",
       "      <th>1951</th>\n",
       "      <td>86727.50</td>\n",
       "    </tr>\n",
       "    <tr>\n",
       "      <th>...</th>\n",
       "      <td>...</td>\n",
       "    </tr>\n",
       "    <tr>\n",
       "      <th>2020</th>\n",
       "      <td>5338526.25</td>\n",
       "    </tr>\n",
       "    <tr>\n",
       "      <th>2021</th>\n",
       "      <td>5920308.00</td>\n",
       "    </tr>\n",
       "    <tr>\n",
       "      <th>2022</th>\n",
       "      <td>6506265.25</td>\n",
       "    </tr>\n",
       "    <tr>\n",
       "      <th>2023</th>\n",
       "      <td>6931489.00</td>\n",
       "    </tr>\n",
       "    <tr>\n",
       "      <th>2024</th>\n",
       "      <td>7302264.00</td>\n",
       "    </tr>\n",
       "  </tbody>\n",
       "</table>\n",
       "<p>78 rows × 1 columns</p>\n",
       "</div>"
      ]
     },
     "execution_count": 184,
     "metadata": {},
     "output_type": "execute_result"
    }
   ],
   "execution_count": 184
  },
  {
   "metadata": {
    "ExecuteTime": {
     "end_time": "2025-05-04T19:14:35.760979Z",
     "start_time": "2025-05-04T19:14:35.753004Z"
    }
   },
   "cell_type": "code",
   "source": "df1 = df1.rename(columns={'NA000334Q': 'VOLUME'})",
   "id": "34adf022d71b9d8",
   "outputs": [],
   "execution_count": 185
  },
  {
   "metadata": {
    "ExecuteTime": {
     "end_time": "2025-05-04T19:14:35.776272Z",
     "start_time": "2025-05-04T19:14:35.768747Z"
    }
   },
   "cell_type": "code",
   "source": "df1.columns",
   "id": "efa4f9009f341bcd",
   "outputs": [
    {
     "data": {
      "text/plain": [
       "Index(['VOLUME'], dtype='object')"
      ]
     },
     "execution_count": 186,
     "metadata": {},
     "output_type": "execute_result"
    }
   ],
   "execution_count": 186
  },
  {
   "metadata": {
    "ExecuteTime": {
     "end_time": "2025-05-04T19:14:37.225758Z",
     "start_time": "2025-05-04T19:14:35.808992Z"
    }
   },
   "cell_type": "code",
   "source": [
    "plt.plot(df1.index, df1['VOLUME'])\n",
    "plt.xlabel('TIME')\n",
    "plt.ylabel('QUANTITIES')\n",
    "plt.show()"
   ],
   "id": "fb12c99d6174191c",
   "outputs": [
    {
     "data": {
      "text/plain": [
       "<Figure size 640x480 with 1 Axes>"
      ],
      "image/png": "[encoded data removed]"
     },
     "metadata": {},
     "output_type": "display_data"
    }
   ],
   "execution_count": 187
  },
  {
   "metadata": {
    "ExecuteTime": {
     "end_time": "2025-05-04T19:14:37.241291Z",
     "start_time": "2025-05-04T19:14:37.234643Z"
    }
   },
   "cell_type": "code",
   "source": [
    "df1['FD1'] = df1['VOLUME'].diff()\n",
    "df1['FDlog'] = np.log(df1['VOLUME'])\n",
    "df1['FD2'] = df1['VOLUME'].diff(periods=2)"
   ],
   "id": "da28085f22a3bc37",
   "outputs": [],
   "execution_count": 188
  },
  {
   "metadata": {
    "ExecuteTime": {
     "end_time": "2025-05-04T19:14:37.272298Z",
     "start_time": "2025-05-04T19:14:37.253162Z"
    }
   },
   "cell_type": "code",
   "source": "df1",
   "id": "cced399696ec3d74",
   "outputs": [
    {
     "data": {
      "text/plain": [
       "                      VOLUME        FD1      FDlog         FD2\n",
       "observation_date                                              \n",
       "1947                62403.75        NaN  11.041381         NaN\n",
       "1948                68617.50    6213.75  11.136303         NaN\n",
       "1949                68118.00    -499.50  11.128997     5714.25\n",
       "1950                74957.00    6839.00  11.224670     6339.50\n",
       "1951                86727.50   11770.50  11.370526    18609.50\n",
       "...                      ...        ...        ...         ...\n",
       "2020              5338526.25  -46343.50  15.490460   174397.25\n",
       "2021              5920308.00  581781.75  15.593899   535438.25\n",
       "2022              6506265.25  585957.25  15.688276  1167739.00\n",
       "2023              6931489.00  425223.75  15.751585  1011181.00\n",
       "2024              7302264.00  370775.00  15.803695   795998.75\n",
       "\n",
       "[78 rows x 4 columns]"
      ],
      "text/html": [
       "<div>\n",
       "<style scoped>\n",
       "    .dataframe tbody tr th:only-of-type {\n",
       "        vertical-align: middle;\n",
       "    }\n",
       "\n",
       "    .dataframe tbody tr th {\n",
       "        vertical-align: top;\n",
       "    }\n",
       "\n",
       "    .dataframe thead th {\n",
       "        text-align: right;\n",
       "    }\n",
       "</style>\n",
       "<table border=\"1\" class=\"dataframe\">\n",
       "  <thead>\n",
       "    <tr style=\"text-align: right;\">\n",
       "      <th></th>\n",
       "      <th>VOLUME</th>\n",
       "      <th>FD1</th>\n",
       "      <th>FDlog</th>\n",
       "      <th>FD2</th>\n",
       "    </tr>\n",
       "    <tr>\n",
       "      <th>observation_date</th>\n",
       "      <th></th>\n",
       "      <th></th>\n",
       "      <th></th>\n",
       "      <th></th>\n",
       "    </tr>\n",
       "  </thead>\n",
       "  <tbody>\n",
       "    <tr>\n",
       "      <th>1947</th>\n",
       "      <td>62403.75</td>\n",
       "      <td>NaN</td>\n",
       "      <td>11.041381</td>\n",
       "      <td>NaN</td>\n",
       "    </tr>\n",
       "    <tr>\n",
       "      <th>1948</th>\n",
       "      <td>68617.50</td>\n",
       "      <td>6213.75</td>\n",
       "      <td>11.136303</td>\n",
       "      <td>NaN</td>\n",
       "    </tr>\n",
       "    <tr>\n",
       "      <th>1949</th>\n",
       "      <td>68118.00</td>\n",
       "      <td>-499.50</td>\n",
       "      <td>11.128997</td>\n",
       "      <td>5714.25</td>\n",
       "    </tr>\n",
       "    <tr>\n",
       "      <th>1950</th>\n",
       "      <td>74957.00</td>\n",
       "      <td>6839.00</td>\n",
       "      <td>11.224670</td>\n",
       "      <td>6339.50</td>\n",
       "    </tr>\n",
       "    <tr>\n",
       "      <th>1951</th>\n",
       "      <td>86727.50</td>\n",
       "      <td>11770.50</td>\n",
       "      <td>11.370526</td>\n",
       "      <td>18609.50</td>\n",
       "    </tr>\n",
       "    <tr>\n",
       "      <th>...</th>\n",
       "      <td>...</td>\n",
       "      <td>...</td>\n",
       "      <td>...</td>\n",
       "      <td>...</td>\n",
       "    </tr>\n",
       "    <tr>\n",
       "      <th>2020</th>\n",
       "      <td>5338526.25</td>\n",
       "      <td>-46343.50</td>\n",
       "      <td>15.490460</td>\n",
       "      <td>174397.25</td>\n",
       "    </tr>\n",
       "    <tr>\n",
       "      <th>2021</th>\n",
       "      <td>5920308.00</td>\n",
       "      <td>581781.75</td>\n",
       "      <td>15.593899</td>\n",
       "      <td>535438.25</td>\n",
       "    </tr>\n",
       "    <tr>\n",
       "      <th>2022</th>\n",
       "      <td>6506265.25</td>\n",
       "      <td>585957.25</td>\n",
       "      <td>15.688276</td>\n",
       "      <td>1167739.00</td>\n",
       "    </tr>\n",
       "    <tr>\n",
       "      <th>2023</th>\n",
       "      <td>6931489.00</td>\n",
       "      <td>425223.75</td>\n",
       "      <td>15.751585</td>\n",
       "      <td>1011181.00</td>\n",
       "    </tr>\n",
       "    <tr>\n",
       "      <th>2024</th>\n",
       "      <td>7302264.00</td>\n",
       "      <td>370775.00</td>\n",
       "      <td>15.803695</td>\n",
       "      <td>795998.75</td>\n",
       "    </tr>\n",
       "  </tbody>\n",
       "</table>\n",
       "<p>78 rows × 4 columns</p>\n",
       "</div>"
      ]
     },
     "execution_count": 189,
     "metadata": {},
     "output_type": "execute_result"
    }
   ],
   "execution_count": 189
  },
  {
   "metadata": {
    "ExecuteTime": {
     "end_time": "2025-05-04T19:14:37.411640Z",
     "start_time": "2025-05-04T19:14:37.290954Z"
    }
   },
   "cell_type": "code",
   "source": [
    "plt.plot(df1.index, df1['FD1'])\n",
    "plt.plot(df1.index, df1['FDlog'])\n",
    "plt.plot(df1.index, df1['FD2'])\n",
    "plt.show()"
   ],
   "id": "63acaec0458d78d3",
   "outputs": [
    {
     "data": {
      "text/plain": [
       "<Figure size 640x480 with 1 Axes>"
      ],
      "image/png": "[encoded data removed]"
     },
     "metadata": {},
     "output_type": "display_data"
    }
   ],
   "execution_count": 190
  },
  {
   "metadata": {
    "ExecuteTime": {
     "end_time": "2025-05-04T19:14:37.458030Z",
     "start_time": "2025-05-04T19:14:37.436732Z"
    }
   },
   "cell_type": "code",
   "source": "df1.isna().sum()",
   "id": "9915bcfc894d4578",
   "outputs": [
    {
     "data": {
      "text/plain": [
       "VOLUME    0\n",
       "FD1       1\n",
       "FDlog     0\n",
       "FD2       2\n",
       "dtype: int64"
      ]
     },
     "execution_count": 191,
     "metadata": {},
     "output_type": "execute_result"
    }
   ],
   "execution_count": 191
  },
  {
   "metadata": {
    "ExecuteTime": {
     "end_time": "2025-05-04T19:14:37.504491Z",
     "start_time": "2025-05-04T19:14:37.489753Z"
    }
   },
   "cell_type": "code",
   "source": [
    "#df1 = df1.fillna(method='backfill')\n",
    "df1 = df1.bfill()"
   ],
   "id": "657506cf761ed15f",
   "outputs": [],
   "execution_count": 192
  },
  {
   "metadata": {
    "ExecuteTime": {
     "end_time": "2025-05-04T19:14:37.535859Z",
     "start_time": "2025-05-04T19:14:37.514019Z"
    }
   },
   "cell_type": "code",
   "source": "df1.isna().sum()",
   "id": "4a46b4ce816b0e40",
   "outputs": [
    {
     "data": {
      "text/plain": [
       "VOLUME    0\n",
       "FD1       0\n",
       "FDlog     0\n",
       "FD2       0\n",
       "dtype: int64"
      ]
     },
     "execution_count": 193,
     "metadata": {},
     "output_type": "execute_result"
    }
   ],
   "execution_count": 193
  },
  {
   "metadata": {
    "ExecuteTime": {
     "end_time": "2025-05-04T19:14:37.598471Z",
     "start_time": "2025-05-04T19:14:37.569640Z"
    }
   },
   "cell_type": "code",
   "source": "df1.head()",
   "id": "4417ef4de8ef0eb1",
   "outputs": [
    {
     "data": {
      "text/plain": [
       "                    VOLUME       FD1      FDlog       FD2\n",
       "observation_date                                         \n",
       "1947              62403.75   6213.75  11.041381   5714.25\n",
       "1948              68617.50   6213.75  11.136303   5714.25\n",
       "1949              68118.00   -499.50  11.128997   5714.25\n",
       "1950              74957.00   6839.00  11.224670   6339.50\n",
       "1951              86727.50  11770.50  11.370526  18609.50"
      ],
      "text/html": [
       "<div>\n",
       "<style scoped>\n",
       "    .dataframe tbody tr th:only-of-type {\n",
       "        vertical-align: middle;\n",
       "    }\n",
       "\n",
       "    .dataframe tbody tr th {\n",
       "        vertical-align: top;\n",
       "    }\n",
       "\n",
       "    .dataframe thead th {\n",
       "        text-align: right;\n",
       "    }\n",
       "</style>\n",
       "<table border=\"1\" class=\"dataframe\">\n",
       "  <thead>\n",
       "    <tr style=\"text-align: right;\">\n",
       "      <th></th>\n",
       "      <th>VOLUME</th>\n",
       "      <th>FD1</th>\n",
       "      <th>FDlog</th>\n",
       "      <th>FD2</th>\n",
       "    </tr>\n",
       "    <tr>\n",
       "      <th>observation_date</th>\n",
       "      <th></th>\n",
       "      <th></th>\n",
       "      <th></th>\n",
       "      <th></th>\n",
       "    </tr>\n",
       "  </thead>\n",
       "  <tbody>\n",
       "    <tr>\n",
       "      <th>1947</th>\n",
       "      <td>62403.75</td>\n",
       "      <td>6213.75</td>\n",
       "      <td>11.041381</td>\n",
       "      <td>5714.25</td>\n",
       "    </tr>\n",
       "    <tr>\n",
       "      <th>1948</th>\n",
       "      <td>68617.50</td>\n",
       "      <td>6213.75</td>\n",
       "      <td>11.136303</td>\n",
       "      <td>5714.25</td>\n",
       "    </tr>\n",
       "    <tr>\n",
       "      <th>1949</th>\n",
       "      <td>68118.00</td>\n",
       "      <td>-499.50</td>\n",
       "      <td>11.128997</td>\n",
       "      <td>5714.25</td>\n",
       "    </tr>\n",
       "    <tr>\n",
       "      <th>1950</th>\n",
       "      <td>74957.00</td>\n",
       "      <td>6839.00</td>\n",
       "      <td>11.224670</td>\n",
       "      <td>6339.50</td>\n",
       "    </tr>\n",
       "    <tr>\n",
       "      <th>1951</th>\n",
       "      <td>86727.50</td>\n",
       "      <td>11770.50</td>\n",
       "      <td>11.370526</td>\n",
       "      <td>18609.50</td>\n",
       "    </tr>\n",
       "  </tbody>\n",
       "</table>\n",
       "</div>"
      ]
     },
     "execution_count": 194,
     "metadata": {},
     "output_type": "execute_result"
    }
   ],
   "execution_count": 194
  },
  {
   "metadata": {
    "ExecuteTime": {
     "end_time": "2025-05-04T19:14:37.644625Z",
     "start_time": "2025-05-04T19:14:37.615861Z"
    }
   },
   "cell_type": "code",
   "source": [
    "from statsmodels.tsa.stattools import adfuller\n",
    "result_1 = adfuller(df1['FD1'])\n",
    "result_2 = adfuller(df1['FD2'])\n",
    "result_lg = adfuller(df1['FDlog'])"
   ],
   "id": "e676309158a95e19",
   "outputs": [],
   "execution_count": 195
  },
  {
   "metadata": {
    "ExecuteTime": {
     "end_time": "2025-05-04T19:14:37.660386Z",
     "start_time": "2025-05-04T19:14:37.653407Z"
    }
   },
   "cell_type": "code",
   "source": [
    "print(f\"T-stat: {result_1[0]:.2f} - p-value: {result_1[1]:.2f}\")\n",
    "print(f\"T-stat: {result_2[0]:.2f} - p-value: {result_2[1]:.2f}\")\n",
    "print(f\"T-stat: {result_lg[0]:.2f} - p-value: {result_lg[1]:.2f}\")"
   ],
   "id": "5bc433d7e068c372",
   "outputs": [
    {
     "name": "stdout",
     "output_type": "stream",
     "text": [
      "T-stat: 1.08 - p-value: 1.00\n",
      "T-stat: 1.23 - p-value: 1.00\n",
      "T-stat: -1.53 - p-value: 0.52\n"
     ]
    }
   ],
   "execution_count": 196
  }
 ],
 "metadata": {
  "kernelspec": {
   "display_name": "Python 3",
   "language": "python",
   "name": "python3"
  },
  "language_info": {
   "codemirror_mode": {
    "name": "ipython",
    "version": 2
   },
   "file_extension": ".py",
   "mimetype": "text/x-python",
   "name": "python",
   "nbconvert_exporter": "python",
   "pygments_lexer": "ipython2",
   "version": "2.7.6"
  }
 },
 "nbformat": 4,
 "nbformat_minor": 5
}
