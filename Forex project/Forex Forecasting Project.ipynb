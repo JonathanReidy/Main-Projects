{
 "cells": [
  {
   "metadata": {},
   "cell_type": "markdown",
   "source": "# Description of the project",
   "id": "130a1898f440cff2"
  },
  {
   "metadata": {},
   "cell_type": "markdown",
   "source": "### The aim is to prepare exchange rate data in a time series analysis. Different machine learning algorithms are then applied to determine which is best able to predict future exchange rates, and with what accuracy.",
   "id": "a0f14f083d276327"
  },
  {
   "metadata": {},
   "cell_type": "markdown",
   "source": "# 1. Import libraries",
   "id": "8d2a2df8257045ed"
  },
  {
   "cell_type": "code",
   "id": "initial_id",
   "metadata": {
    "collapsed": true,
    "ExecuteTime": {
     "end_time": "2025-04-15T12:45:51.476562Z",
     "start_time": "2025-04-15T12:45:51.448069Z"
    }
   },
   "source": [
    "import yfinance as yf\n",
    "import matplotlib.pyplot as plt\n",
    "import pandas as pd\n",
    "import numpy as np\n",
    "from sklearn.linear_model import LinearRegression\n",
    "from sklearn.ensemble import RandomForestRegressor\n",
    "from sklearn.ensemble import GradientBoostingRegressor\n",
    "from sklearn.pipeline import Pipeline\n",
    "from sklearn.impute import SimpleImputer"
   ],
   "outputs": [],
   "execution_count": 301
  },
  {
   "metadata": {},
   "cell_type": "markdown",
   "source": "# 2. Import data from yfinance",
   "id": "57e2ceeeb61add32"
  },
  {
   "metadata": {
    "ExecuteTime": {
     "end_time": "2025-04-15T12:45:52.553594Z",
     "start_time": "2025-04-15T12:45:51.568284Z"
    }
   },
   "cell_type": "code",
   "source": [
    "start_date = '2015-01-01'\n",
    "end_date = '2025-01-01'\n",
    "df = yf.download('EURUSD=X', start=start_date, end=end_date, auto_adjust=False)"
   ],
   "id": "8687646a44f79763",
   "outputs": [
    {
     "name": "stderr",
     "output_type": "stream",
     "text": [
      "[*********************100%***********************]  1 of 1 completed\n"
     ]
    }
   ],
   "execution_count": 302
  },
  {
   "metadata": {
    "ExecuteTime": {
     "end_time": "2025-04-15T12:45:52.647772Z",
     "start_time": "2025-04-15T12:45:52.634296Z"
    }
   },
   "cell_type": "code",
   "source": "df = df['Adj Close']",
   "id": "f5d4634e2a79c972",
   "outputs": [],
   "execution_count": 303
  },
  {
   "metadata": {},
   "cell_type": "markdown",
   "source": "# 3. Data observation and cleaning",
   "id": "c05542d98ef22e06"
  },
  {
   "metadata": {
    "ExecuteTime": {
     "end_time": "2025-04-15T12:45:52.926699Z",
     "start_time": "2025-04-15T12:45:52.728727Z"
    }
   },
   "cell_type": "code",
   "source": "df.shape",
   "id": "bf854d4bf6f98248",
   "outputs": [
    {
     "data": {
      "text/plain": [
       "(2606, 1)"
      ]
     },
     "execution_count": 304,
     "metadata": {},
     "output_type": "execute_result"
    }
   ],
   "execution_count": 304
  },
  {
   "metadata": {
    "ExecuteTime": {
     "end_time": "2025-04-15T12:45:53.177520Z",
     "start_time": "2025-04-15T12:45:53.152955Z"
    }
   },
   "cell_type": "code",
   "source": "df.head()",
   "id": "3bdb07398e4be876",
   "outputs": [
    {
     "data": {
      "text/plain": [
       "Ticker      EURUSD=X\n",
       "Date                \n",
       "2015-01-01  1.209863\n",
       "2015-01-02  1.208941\n",
       "2015-01-05  1.194643\n",
       "2015-01-06  1.193902\n",
       "2015-01-07  1.187536"
      ],
      "text/html": [
       "<div>\n",
       "<style scoped>\n",
       "    .dataframe tbody tr th:only-of-type {\n",
       "        vertical-align: middle;\n",
       "    }\n",
       "\n",
       "    .dataframe tbody tr th {\n",
       "        vertical-align: top;\n",
       "    }\n",
       "\n",
       "    .dataframe thead th {\n",
       "        text-align: right;\n",
       "    }\n",
       "</style>\n",
       "<table border=\"1\" class=\"dataframe\">\n",
       "  <thead>\n",
       "    <tr style=\"text-align: right;\">\n",
       "      <th>Ticker</th>\n",
       "      <th>EURUSD=X</th>\n",
       "    </tr>\n",
       "    <tr>\n",
       "      <th>Date</th>\n",
       "      <th></th>\n",
       "    </tr>\n",
       "  </thead>\n",
       "  <tbody>\n",
       "    <tr>\n",
       "      <th>2015-01-01</th>\n",
       "      <td>1.209863</td>\n",
       "    </tr>\n",
       "    <tr>\n",
       "      <th>2015-01-02</th>\n",
       "      <td>1.208941</td>\n",
       "    </tr>\n",
       "    <tr>\n",
       "      <th>2015-01-05</th>\n",
       "      <td>1.194643</td>\n",
       "    </tr>\n",
       "    <tr>\n",
       "      <th>2015-01-06</th>\n",
       "      <td>1.193902</td>\n",
       "    </tr>\n",
       "    <tr>\n",
       "      <th>2015-01-07</th>\n",
       "      <td>1.187536</td>\n",
       "    </tr>\n",
       "  </tbody>\n",
       "</table>\n",
       "</div>"
      ]
     },
     "execution_count": 305,
     "metadata": {},
     "output_type": "execute_result"
    }
   ],
   "execution_count": 305
  },
  {
   "metadata": {
    "ExecuteTime": {
     "end_time": "2025-04-15T12:45:53.566746Z",
     "start_time": "2025-04-15T12:45:53.553184Z"
    }
   },
   "cell_type": "code",
   "source": "type(df.index)",
   "id": "44604507a1f907f2",
   "outputs": [
    {
     "data": {
      "text/plain": [
       "pandas.core.indexes.datetimes.DatetimeIndex"
      ]
     },
     "execution_count": 306,
     "metadata": {},
     "output_type": "execute_result"
    }
   ],
   "execution_count": 306
  },
  {
   "metadata": {
    "ExecuteTime": {
     "end_time": "2025-04-15T12:45:53.923866Z",
     "start_time": "2025-04-15T12:45:53.913377Z"
    }
   },
   "cell_type": "code",
   "source": "df.dtypes",
   "id": "686dbaff21b9914a",
   "outputs": [
    {
     "data": {
      "text/plain": [
       "Ticker\n",
       "EURUSD=X    float64\n",
       "dtype: object"
      ]
     },
     "execution_count": 307,
     "metadata": {},
     "output_type": "execute_result"
    }
   ],
   "execution_count": 307
  },
  {
   "metadata": {
    "ExecuteTime": {
     "end_time": "2025-04-15T12:45:54.248645Z",
     "start_time": "2025-04-15T12:45:54.236443Z"
    }
   },
   "cell_type": "code",
   "source": "df.rename(columns={'EURUSD=X': 'EUR/USD'}, inplace=True)",
   "id": "f01f36821e186f46",
   "outputs": [],
   "execution_count": 308
  },
  {
   "metadata": {
    "ExecuteTime": {
     "end_time": "2025-04-15T12:45:54.763232Z",
     "start_time": "2025-04-15T12:45:54.734623Z"
    }
   },
   "cell_type": "code",
   "source": "df.isna().any()",
   "id": "170c73d2a921c458",
   "outputs": [
    {
     "data": {
      "text/plain": [
       "Ticker\n",
       "EUR/USD    False\n",
       "dtype: bool"
      ]
     },
     "execution_count": 309,
     "metadata": {},
     "output_type": "execute_result"
    }
   ],
   "execution_count": 309
  },
  {
   "metadata": {
    "ExecuteTime": {
     "end_time": "2025-04-15T12:45:55.661652Z",
     "start_time": "2025-04-15T12:45:55.098786Z"
    }
   },
   "cell_type": "code",
   "source": [
    "plt.figure(figsize=(7,5), facecolor='w')\n",
    "plt.title('EUR/USD exchange rate', fontsize=16, fontweight='bold')\n",
    "plt.plot(df, label='EUR/USD', color='lime', linewidth=1)\n",
    "plt.xlabel('Time', fontsize=12, fontweight='bold')\n",
    "plt.xticks(rotation=60)\n",
    "plt.ylabel('EURO-USD', fontsize=12, fontweight='bold')\n",
    "plt.grid(alpha=0.3)\n",
    "plt.legend(loc='upper left')\n",
    "plt.show()"
   ],
   "id": "9e719e7cb1631066",
   "outputs": [
    {
     "data": {
      "text/plain": [
       "<Figure size 700x500 with 1 Axes>"
      ],
      "image/png": "[encoded data removed]"
     },
     "metadata": {},
     "output_type": "display_data"
    }
   ],
   "execution_count": 310
  },
  {
   "metadata": {},
   "cell_type": "markdown",
   "source": "# 4. Time series creation",
   "id": "f73be90406c66474"
  },
  {
   "metadata": {
    "ExecuteTime": {
     "end_time": "2025-04-15T12:45:55.802149Z",
     "start_time": "2025-04-15T12:45:55.773785Z"
    }
   },
   "cell_type": "code",
   "source": [
    "for i in range(1, 8):\n",
    "    df[f'T-{i}'] = df['EUR/USD'].shift(i)"
   ],
   "id": "bde61495f807531c",
   "outputs": [],
   "execution_count": 311
  },
  {
   "metadata": {
    "ExecuteTime": {
     "end_time": "2025-04-15T12:45:56.001700Z",
     "start_time": "2025-04-15T12:45:55.912035Z"
    }
   },
   "cell_type": "code",
   "source": "df.dropna(inplace=True)",
   "id": "f649a74c1708ccc4",
   "outputs": [],
   "execution_count": 312
  },
  {
   "metadata": {
    "ExecuteTime": {
     "end_time": "2025-04-15T12:45:56.079381Z",
     "start_time": "2025-04-15T12:45:56.050884Z"
    }
   },
   "cell_type": "code",
   "source": "df.head()",
   "id": "a9d5dea735d555d5",
   "outputs": [
    {
     "data": {
      "text/plain": [
       "Ticker       EUR/USD       T-1       T-2       T-3       T-4       T-5  \\\n",
       "Date                                                                     \n",
       "2015-01-12  1.187070  1.179607  1.183600  1.187536  1.193902  1.194643   \n",
       "2015-01-13  1.183152  1.187070  1.179607  1.183600  1.187536  1.193902   \n",
       "2015-01-14  1.177829  1.183152  1.187070  1.179607  1.183600  1.187536   \n",
       "2015-01-15  1.178592  1.177829  1.183152  1.187070  1.179607  1.183600   \n",
       "2015-01-16  1.163738  1.178592  1.177829  1.183152  1.187070  1.179607   \n",
       "\n",
       "Ticker           T-6       T-7  \n",
       "Date                            \n",
       "2015-01-12  1.208941  1.209863  \n",
       "2015-01-13  1.194643  1.208941  \n",
       "2015-01-14  1.193902  1.194643  \n",
       "2015-01-15  1.187536  1.193902  \n",
       "2015-01-16  1.183600  1.187536  "
      ],
      "text/html": [
       "<div>\n",
       "<style scoped>\n",
       "    .dataframe tbody tr th:only-of-type {\n",
       "        vertical-align: middle;\n",
       "    }\n",
       "\n",
       "    .dataframe tbody tr th {\n",
       "        vertical-align: top;\n",
       "    }\n",
       "\n",
       "    .dataframe thead th {\n",
       "        text-align: right;\n",
       "    }\n",
       "</style>\n",
       "<table border=\"1\" class=\"dataframe\">\n",
       "  <thead>\n",
       "    <tr style=\"text-align: right;\">\n",
       "      <th>Ticker</th>\n",
       "      <th>EUR/USD</th>\n",
       "      <th>T-1</th>\n",
       "      <th>T-2</th>\n",
       "      <th>T-3</th>\n",
       "      <th>T-4</th>\n",
       "      <th>T-5</th>\n",
       "      <th>T-6</th>\n",
       "      <th>T-7</th>\n",
       "    </tr>\n",
       "    <tr>\n",
       "      <th>Date</th>\n",
       "      <th></th>\n",
       "      <th></th>\n",
       "      <th></th>\n",
       "      <th></th>\n",
       "      <th></th>\n",
       "      <th></th>\n",
       "      <th></th>\n",
       "      <th></th>\n",
       "    </tr>\n",
       "  </thead>\n",
       "  <tbody>\n",
       "    <tr>\n",
       "      <th>2015-01-12</th>\n",
       "      <td>1.187070</td>\n",
       "      <td>1.179607</td>\n",
       "      <td>1.183600</td>\n",
       "      <td>1.187536</td>\n",
       "      <td>1.193902</td>\n",
       "      <td>1.194643</td>\n",
       "      <td>1.208941</td>\n",
       "      <td>1.209863</td>\n",
       "    </tr>\n",
       "    <tr>\n",
       "      <th>2015-01-13</th>\n",
       "      <td>1.183152</td>\n",
       "      <td>1.187070</td>\n",
       "      <td>1.179607</td>\n",
       "      <td>1.183600</td>\n",
       "      <td>1.187536</td>\n",
       "      <td>1.193902</td>\n",
       "      <td>1.194643</td>\n",
       "      <td>1.208941</td>\n",
       "    </tr>\n",
       "    <tr>\n",
       "      <th>2015-01-14</th>\n",
       "      <td>1.177829</td>\n",
       "      <td>1.183152</td>\n",
       "      <td>1.187070</td>\n",
       "      <td>1.179607</td>\n",
       "      <td>1.183600</td>\n",
       "      <td>1.187536</td>\n",
       "      <td>1.193902</td>\n",
       "      <td>1.194643</td>\n",
       "    </tr>\n",
       "    <tr>\n",
       "      <th>2015-01-15</th>\n",
       "      <td>1.178592</td>\n",
       "      <td>1.177829</td>\n",
       "      <td>1.183152</td>\n",
       "      <td>1.187070</td>\n",
       "      <td>1.179607</td>\n",
       "      <td>1.183600</td>\n",
       "      <td>1.187536</td>\n",
       "      <td>1.193902</td>\n",
       "    </tr>\n",
       "    <tr>\n",
       "      <th>2015-01-16</th>\n",
       "      <td>1.163738</td>\n",
       "      <td>1.178592</td>\n",
       "      <td>1.177829</td>\n",
       "      <td>1.183152</td>\n",
       "      <td>1.187070</td>\n",
       "      <td>1.179607</td>\n",
       "      <td>1.183600</td>\n",
       "      <td>1.187536</td>\n",
       "    </tr>\n",
       "  </tbody>\n",
       "</table>\n",
       "</div>"
      ]
     },
     "execution_count": 313,
     "metadata": {},
     "output_type": "execute_result"
    }
   ],
   "execution_count": 313
  },
  {
   "metadata": {
    "ExecuteTime": {
     "end_time": "2025-04-15T12:45:56.188424Z",
     "start_time": "2025-04-15T12:45:56.176628Z"
    }
   },
   "cell_type": "code",
   "source": "df.shape",
   "id": "694a8ca3161af63f",
   "outputs": [
    {
     "data": {
      "text/plain": [
       "(2599, 8)"
      ]
     },
     "execution_count": 314,
     "metadata": {},
     "output_type": "execute_result"
    }
   ],
   "execution_count": 314
  },
  {
   "metadata": {},
   "cell_type": "markdown",
   "source": "# 5. Splitting the data into train and test",
   "id": "e87acfec0cae33d3"
  },
  {
   "metadata": {
    "ExecuteTime": {
     "end_time": "2025-04-15T12:45:56.312160Z",
     "start_time": "2025-04-15T12:45:56.298370Z"
    }
   },
   "cell_type": "code",
   "source": [
    "n_test = len(df)\n",
    "n_test = int(20/100*n_test)\n",
    "n_test"
   ],
   "id": "cde65a6e4492bb24",
   "outputs": [
    {
     "data": {
      "text/plain": [
       "519"
      ]
     },
     "execution_count": 315,
     "metadata": {},
     "output_type": "execute_result"
    }
   ],
   "execution_count": 315
  },
  {
   "metadata": {
    "ExecuteTime": {
     "end_time": "2025-04-15T12:45:56.419958Z",
     "start_time": "2025-04-15T12:45:56.407025Z"
    }
   },
   "cell_type": "code",
   "source": [
    "X = df\n",
    "y = X.pop('EUR/USD')"
   ],
   "id": "26b9bd4b4aa258e6",
   "outputs": [],
   "execution_count": 316
  },
  {
   "metadata": {
    "ExecuteTime": {
     "end_time": "2025-04-15T12:45:56.512174Z",
     "start_time": "2025-04-15T12:45:56.500244Z"
    }
   },
   "cell_type": "code",
   "source": [
    "X_train, X_test = X[:-n_test], X[-n_test:]\n",
    "y_train, y_test = y[:-n_test], y[-n_test:]"
   ],
   "id": "733b57c92a917926",
   "outputs": [],
   "execution_count": 317
  },
  {
   "metadata": {
    "ExecuteTime": {
     "end_time": "2025-04-15T12:45:56.604969Z",
     "start_time": "2025-04-15T12:45:56.577936Z"
    }
   },
   "cell_type": "code",
   "source": "X_train.tail(1)",
   "id": "158ca0b8d98d87a0",
   "outputs": [
    {
     "data": {
      "text/plain": [
       "Ticker           T-1       T-2       T-3       T-4       T-5       T-6  \\\n",
       "Date                                                                     \n",
       "2023-01-04  1.067771  1.070973  1.066075  1.062925  1.063717  1.064022   \n",
       "\n",
       "Ticker          T-7  \n",
       "Date                 \n",
       "2023-01-04  1.06678  "
      ],
      "text/html": [
       "<div>\n",
       "<style scoped>\n",
       "    .dataframe tbody tr th:only-of-type {\n",
       "        vertical-align: middle;\n",
       "    }\n",
       "\n",
       "    .dataframe tbody tr th {\n",
       "        vertical-align: top;\n",
       "    }\n",
       "\n",
       "    .dataframe thead th {\n",
       "        text-align: right;\n",
       "    }\n",
       "</style>\n",
       "<table border=\"1\" class=\"dataframe\">\n",
       "  <thead>\n",
       "    <tr style=\"text-align: right;\">\n",
       "      <th>Ticker</th>\n",
       "      <th>T-1</th>\n",
       "      <th>T-2</th>\n",
       "      <th>T-3</th>\n",
       "      <th>T-4</th>\n",
       "      <th>T-5</th>\n",
       "      <th>T-6</th>\n",
       "      <th>T-7</th>\n",
       "    </tr>\n",
       "    <tr>\n",
       "      <th>Date</th>\n",
       "      <th></th>\n",
       "      <th></th>\n",
       "      <th></th>\n",
       "      <th></th>\n",
       "      <th></th>\n",
       "      <th></th>\n",
       "      <th></th>\n",
       "    </tr>\n",
       "  </thead>\n",
       "  <tbody>\n",
       "    <tr>\n",
       "      <th>2023-01-04</th>\n",
       "      <td>1.067771</td>\n",
       "      <td>1.070973</td>\n",
       "      <td>1.066075</td>\n",
       "      <td>1.062925</td>\n",
       "      <td>1.063717</td>\n",
       "      <td>1.064022</td>\n",
       "      <td>1.06678</td>\n",
       "    </tr>\n",
       "  </tbody>\n",
       "</table>\n",
       "</div>"
      ]
     },
     "execution_count": 318,
     "metadata": {},
     "output_type": "execute_result"
    }
   ],
   "execution_count": 318
  },
  {
   "metadata": {
    "ExecuteTime": {
     "end_time": "2025-04-15T12:45:56.775064Z",
     "start_time": "2025-04-15T12:45:56.747643Z"
    }
   },
   "cell_type": "code",
   "source": "X_test.head(1)",
   "id": "f4ad3e193cc46ea1",
   "outputs": [
    {
     "data": {
      "text/plain": [
       "Ticker           T-1       T-2       T-3       T-4       T-5       T-6  \\\n",
       "Date                                                                     \n",
       "2023-01-05  1.054685  1.067771  1.070973  1.066075  1.062925  1.063717   \n",
       "\n",
       "Ticker           T-7  \n",
       "Date                  \n",
       "2023-01-05  1.064022  "
      ],
      "text/html": [
       "<div>\n",
       "<style scoped>\n",
       "    .dataframe tbody tr th:only-of-type {\n",
       "        vertical-align: middle;\n",
       "    }\n",
       "\n",
       "    .dataframe tbody tr th {\n",
       "        vertical-align: top;\n",
       "    }\n",
       "\n",
       "    .dataframe thead th {\n",
       "        text-align: right;\n",
       "    }\n",
       "</style>\n",
       "<table border=\"1\" class=\"dataframe\">\n",
       "  <thead>\n",
       "    <tr style=\"text-align: right;\">\n",
       "      <th>Ticker</th>\n",
       "      <th>T-1</th>\n",
       "      <th>T-2</th>\n",
       "      <th>T-3</th>\n",
       "      <th>T-4</th>\n",
       "      <th>T-5</th>\n",
       "      <th>T-6</th>\n",
       "      <th>T-7</th>\n",
       "    </tr>\n",
       "    <tr>\n",
       "      <th>Date</th>\n",
       "      <th></th>\n",
       "      <th></th>\n",
       "      <th></th>\n",
       "      <th></th>\n",
       "      <th></th>\n",
       "      <th></th>\n",
       "      <th></th>\n",
       "    </tr>\n",
       "  </thead>\n",
       "  <tbody>\n",
       "    <tr>\n",
       "      <th>2023-01-05</th>\n",
       "      <td>1.054685</td>\n",
       "      <td>1.067771</td>\n",
       "      <td>1.070973</td>\n",
       "      <td>1.066075</td>\n",
       "      <td>1.062925</td>\n",
       "      <td>1.063717</td>\n",
       "      <td>1.064022</td>\n",
       "    </tr>\n",
       "  </tbody>\n",
       "</table>\n",
       "</div>"
      ]
     },
     "execution_count": 319,
     "metadata": {},
     "output_type": "execute_result"
    }
   ],
   "execution_count": 319
  },
  {
   "metadata": {},
   "cell_type": "markdown",
   "source": "# 6. Creation of ML algorithms",
   "id": "ca6cb278011038b3"
  },
  {
   "metadata": {
    "ExecuteTime": {
     "end_time": "2025-04-15T12:45:57.054341Z",
     "start_time": "2025-04-15T12:45:56.948984Z"
    }
   },
   "cell_type": "code",
   "source": [
    "models = {'linear_regression': LinearRegression(),\n",
    "          'random_forest': RandomForestRegressor(),\n",
    "          'gradient_boosting': GradientBoostingRegressor()}"
   ],
   "id": "8c0d22f51f74a8d8",
   "outputs": [],
   "execution_count": 320
  },
  {
   "metadata": {},
   "cell_type": "markdown",
   "source": "Simple models without fine-tuning the parameters",
   "id": "41f651a141d50f31"
  },
  {
   "metadata": {
    "ExecuteTime": {
     "end_time": "2025-04-15T12:46:00.049773Z",
     "start_time": "2025-04-15T12:45:57.275083Z"
    }
   },
   "cell_type": "code",
   "source": [
    "scores = {}\n",
    "for name, model in models.items():\n",
    "    model.fit(X_train, y_train)\n",
    "    accuracy = model.score(X_test, y_test)\n",
    "    scores[name] = accuracy"
   ],
   "id": "6f4265a6d2291493",
   "outputs": [],
   "execution_count": 321
  },
  {
   "metadata": {
    "ExecuteTime": {
     "end_time": "2025-04-15T12:46:00.191777Z",
     "start_time": "2025-04-15T12:46:00.177833Z"
    }
   },
   "cell_type": "code",
   "source": [
    "for name, score in scores.items():\n",
    "    print(f'{name}: {score*100:.2f}%')"
   ],
   "id": "dde90fbe82ea3ead",
   "outputs": [
    {
     "name": "stdout",
     "output_type": "stream",
     "text": [
      "linear_regression: 92.82%\n",
      "random_forest: 91.25%\n",
      "gradient_boosting: 92.30%\n"
     ]
    }
   ],
   "execution_count": 322
  },
  {
   "metadata": {},
   "cell_type": "markdown",
   "source": "# 7. Testing the predictions and scores of the models on previous days",
   "id": "1dbaf85ac7eaa559"
  },
  {
   "metadata": {
    "ExecuteTime": {
     "end_time": "2025-04-15T12:46:00.987660Z",
     "start_time": "2025-04-15T12:46:00.241311Z"
    }
   },
   "cell_type": "code",
   "source": [
    "data = yf.download('EURUSD=X', start='2025-01-01', end='2025-04-10', auto_adjust=False)\n",
    "data = data['Adj Close']\n",
    "data.rename(columns={'EURUSD=X': 'EUR/USD'}, inplace=True)\n",
    "data.head()"
   ],
   "id": "ca93dad693da0ef2",
   "outputs": [
    {
     "name": "stderr",
     "output_type": "stream",
     "text": [
      "[*********************100%***********************]  1 of 1 completed\n"
     ]
    },
    {
     "data": {
      "text/plain": [
       "Ticker       EUR/USD\n",
       "Date                \n",
       "2025-01-02  1.035186\n",
       "2025-01-03  1.026821\n",
       "2025-01-06  1.030535\n",
       "2025-01-07  1.038637\n",
       "2025-01-08  1.034554"
      ],
      "text/html": [
       "<div>\n",
       "<style scoped>\n",
       "    .dataframe tbody tr th:only-of-type {\n",
       "        vertical-align: middle;\n",
       "    }\n",
       "\n",
       "    .dataframe tbody tr th {\n",
       "        vertical-align: top;\n",
       "    }\n",
       "\n",
       "    .dataframe thead th {\n",
       "        text-align: right;\n",
       "    }\n",
       "</style>\n",
       "<table border=\"1\" class=\"dataframe\">\n",
       "  <thead>\n",
       "    <tr style=\"text-align: right;\">\n",
       "      <th>Ticker</th>\n",
       "      <th>EUR/USD</th>\n",
       "    </tr>\n",
       "    <tr>\n",
       "      <th>Date</th>\n",
       "      <th></th>\n",
       "    </tr>\n",
       "  </thead>\n",
       "  <tbody>\n",
       "    <tr>\n",
       "      <th>2025-01-02</th>\n",
       "      <td>1.035186</td>\n",
       "    </tr>\n",
       "    <tr>\n",
       "      <th>2025-01-03</th>\n",
       "      <td>1.026821</td>\n",
       "    </tr>\n",
       "    <tr>\n",
       "      <th>2025-01-06</th>\n",
       "      <td>1.030535</td>\n",
       "    </tr>\n",
       "    <tr>\n",
       "      <th>2025-01-07</th>\n",
       "      <td>1.038637</td>\n",
       "    </tr>\n",
       "    <tr>\n",
       "      <th>2025-01-08</th>\n",
       "      <td>1.034554</td>\n",
       "    </tr>\n",
       "  </tbody>\n",
       "</table>\n",
       "</div>"
      ]
     },
     "execution_count": 323,
     "metadata": {},
     "output_type": "execute_result"
    }
   ],
   "execution_count": 323
  },
  {
   "metadata": {
    "ExecuteTime": {
     "end_time": "2025-04-15T12:46:01.111423Z",
     "start_time": "2025-04-15T12:46:01.100550Z"
    }
   },
   "cell_type": "code",
   "source": "data.isna().sum()",
   "id": "6ef360e18230ad81",
   "outputs": [
    {
     "data": {
      "text/plain": [
       "Ticker\n",
       "EUR/USD    0\n",
       "dtype: int64"
      ]
     },
     "execution_count": 324,
     "metadata": {},
     "output_type": "execute_result"
    }
   ],
   "execution_count": 324
  },
  {
   "metadata": {
    "ExecuteTime": {
     "end_time": "2025-04-15T12:46:01.300059Z",
     "start_time": "2025-04-15T12:46:01.287373Z"
    }
   },
   "cell_type": "code",
   "source": [
    "for i in range(1, 8):\n",
    "    data[f'T-{i}'] = data['EUR/USD'].shift(i)\n",
    "data.dropna(inplace=True)"
   ],
   "id": "5e09258bbaa2e135",
   "outputs": [],
   "execution_count": 325
  },
  {
   "metadata": {
    "ExecuteTime": {
     "end_time": "2025-04-15T12:46:02.198310Z",
     "start_time": "2025-04-15T12:46:02.184055Z"
    }
   },
   "cell_type": "code",
   "source": [
    "X = data.copy()\n",
    "y = X.pop('EUR/USD')\n",
    "data_with_predictions = data.copy()"
   ],
   "id": "da9c37e8b6e92822",
   "outputs": [],
   "execution_count": 326
  },
  {
   "metadata": {
    "ExecuteTime": {
     "end_time": "2025-04-15T12:46:02.355784Z",
     "start_time": "2025-04-15T12:46:02.296003Z"
    }
   },
   "cell_type": "code",
   "source": [
    "for name, model in models.items():\n",
    "    y_pred = model.predict(X)\n",
    "    data_with_predictions[f'{name}_pred'] = y_pred\n",
    "    print(f'{name}: {model.score(X, y)*100:.2f}%')"
   ],
   "id": "1dfb92cd0f1b885",
   "outputs": [
    {
     "name": "stdout",
     "output_type": "stream",
     "text": [
      "linear_regression: 93.91%\n",
      "random_forest: 90.73%\n",
      "gradient_boosting: 92.44%\n"
     ]
    }
   ],
   "execution_count": 327
  },
  {
   "metadata": {},
   "cell_type": "markdown",
   "source": "Linear regression in this example is still the best model to predict exchange rate!",
   "id": "7820c89b50e95fd6"
  },
  {
   "metadata": {
    "ExecuteTime": {
     "end_time": "2025-04-15T12:46:02.432970Z",
     "start_time": "2025-04-15T12:46:02.403058Z"
    }
   },
   "cell_type": "code",
   "source": "data_with_predictions.head()",
   "id": "996e52ed3f7432a4",
   "outputs": [
    {
     "data": {
      "text/plain": [
       "Ticker       EUR/USD       T-1       T-2       T-3       T-4       T-5  \\\n",
       "Date                                                                     \n",
       "2025-01-13  1.024443  1.029760  1.031470  1.034554  1.038637  1.030535   \n",
       "2025-01-14  1.026525  1.024443  1.029760  1.031470  1.034554  1.038637   \n",
       "2025-01-15  1.030684  1.026525  1.024443  1.029760  1.031470  1.034554   \n",
       "2025-01-16  1.029527  1.030684  1.026525  1.024443  1.029760  1.031470   \n",
       "2025-01-17  1.030195  1.029527  1.030684  1.026525  1.024443  1.029760   \n",
       "\n",
       "Ticker           T-6       T-7  linear_regression_pred  random_forest_pred  \\\n",
       "Date                                                                         \n",
       "2025-01-13  1.026821  1.035186                1.030718            1.029842   \n",
       "2025-01-14  1.030535  1.026821                1.024882            1.022865   \n",
       "2025-01-15  1.038637  1.030535                1.026496            1.020390   \n",
       "2025-01-16  1.034554  1.038637                1.031345            1.031014   \n",
       "2025-01-17  1.031470  1.034554                1.030138            1.029746   \n",
       "\n",
       "Ticker      gradient_boosting_pred  \n",
       "Date                                \n",
       "2025-01-13                1.033310  \n",
       "2025-01-14                1.021695  \n",
       "2025-01-15                1.021212  \n",
       "2025-01-16                1.030733  \n",
       "2025-01-17                1.030733  "
      ],
      "text/html": [
       "<div>\n",
       "<style scoped>\n",
       "    .dataframe tbody tr th:only-of-type {\n",
       "        vertical-align: middle;\n",
       "    }\n",
       "\n",
       "    .dataframe tbody tr th {\n",
       "        vertical-align: top;\n",
       "    }\n",
       "\n",
       "    .dataframe thead th {\n",
       "        text-align: right;\n",
       "    }\n",
       "</style>\n",
       "<table border=\"1\" class=\"dataframe\">\n",
       "  <thead>\n",
       "    <tr style=\"text-align: right;\">\n",
       "      <th>Ticker</th>\n",
       "      <th>EUR/USD</th>\n",
       "      <th>T-1</th>\n",
       "      <th>T-2</th>\n",
       "      <th>T-3</th>\n",
       "      <th>T-4</th>\n",
       "      <th>T-5</th>\n",
       "      <th>T-6</th>\n",
       "      <th>T-7</th>\n",
       "      <th>linear_regression_pred</th>\n",
       "      <th>random_forest_pred</th>\n",
       "      <th>gradient_boosting_pred</th>\n",
       "    </tr>\n",
       "    <tr>\n",
       "      <th>Date</th>\n",
       "      <th></th>\n",
       "      <th></th>\n",
       "      <th></th>\n",
       "      <th></th>\n",
       "      <th></th>\n",
       "      <th></th>\n",
       "      <th></th>\n",
       "      <th></th>\n",
       "      <th></th>\n",
       "      <th></th>\n",
       "      <th></th>\n",
       "    </tr>\n",
       "  </thead>\n",
       "  <tbody>\n",
       "    <tr>\n",
       "      <th>2025-01-13</th>\n",
       "      <td>1.024443</td>\n",
       "      <td>1.029760</td>\n",
       "      <td>1.031470</td>\n",
       "      <td>1.034554</td>\n",
       "      <td>1.038637</td>\n",
       "      <td>1.030535</td>\n",
       "      <td>1.026821</td>\n",
       "      <td>1.035186</td>\n",
       "      <td>1.030718</td>\n",
       "      <td>1.029842</td>\n",
       "      <td>1.033310</td>\n",
       "    </tr>\n",
       "    <tr>\n",
       "      <th>2025-01-14</th>\n",
       "      <td>1.026525</td>\n",
       "      <td>1.024443</td>\n",
       "      <td>1.029760</td>\n",
       "      <td>1.031470</td>\n",
       "      <td>1.034554</td>\n",
       "      <td>1.038637</td>\n",
       "      <td>1.030535</td>\n",
       "      <td>1.026821</td>\n",
       "      <td>1.024882</td>\n",
       "      <td>1.022865</td>\n",
       "      <td>1.021695</td>\n",
       "    </tr>\n",
       "    <tr>\n",
       "      <th>2025-01-15</th>\n",
       "      <td>1.030684</td>\n",
       "      <td>1.026525</td>\n",
       "      <td>1.024443</td>\n",
       "      <td>1.029760</td>\n",
       "      <td>1.031470</td>\n",
       "      <td>1.034554</td>\n",
       "      <td>1.038637</td>\n",
       "      <td>1.030535</td>\n",
       "      <td>1.026496</td>\n",
       "      <td>1.020390</td>\n",
       "      <td>1.021212</td>\n",
       "    </tr>\n",
       "    <tr>\n",
       "      <th>2025-01-16</th>\n",
       "      <td>1.029527</td>\n",
       "      <td>1.030684</td>\n",
       "      <td>1.026525</td>\n",
       "      <td>1.024443</td>\n",
       "      <td>1.029760</td>\n",
       "      <td>1.031470</td>\n",
       "      <td>1.034554</td>\n",
       "      <td>1.038637</td>\n",
       "      <td>1.031345</td>\n",
       "      <td>1.031014</td>\n",
       "      <td>1.030733</td>\n",
       "    </tr>\n",
       "    <tr>\n",
       "      <th>2025-01-17</th>\n",
       "      <td>1.030195</td>\n",
       "      <td>1.029527</td>\n",
       "      <td>1.030684</td>\n",
       "      <td>1.026525</td>\n",
       "      <td>1.024443</td>\n",
       "      <td>1.029760</td>\n",
       "      <td>1.031470</td>\n",
       "      <td>1.034554</td>\n",
       "      <td>1.030138</td>\n",
       "      <td>1.029746</td>\n",
       "      <td>1.030733</td>\n",
       "    </tr>\n",
       "  </tbody>\n",
       "</table>\n",
       "</div>"
      ]
     },
     "execution_count": 328,
     "metadata": {},
     "output_type": "execute_result"
    }
   ],
   "execution_count": 328
  },
  {
   "metadata": {
    "ExecuteTime": {
     "end_time": "2025-04-15T12:46:02.777816Z",
     "start_time": "2025-04-15T12:46:02.544390Z"
    }
   },
   "cell_type": "code",
   "source": [
    "plt.figure(figsize=(7,5), facecolor='w')\n",
    "plt.plot(data_with_predictions['EUR/USD'], label='EUR/USD')\n",
    "plt.plot(data_with_predictions['linear_regression_pred'], color='purple', label='linear_regression', ls=':')\n",
    "plt.plot(data_with_predictions['random_forest_pred'], color='lime', label='random_forest', ls='--')\n",
    "plt.plot(data_with_predictions['gradient_boosting_pred'], color='orange', label='gradient_boosting', ls='-.')\n",
    "plt.title(\"Comparison of different model's predictions\", fontsize=16, fontweight='bold')\n",
    "plt.axvline(pd.to_datetime('2025-04-02'), color='red', ls='--', label='USA Tariff')\n",
    "plt.xlabel('Time', fontsize=12, fontweight='bold')\n",
    "plt.xticks(rotation=60)\n",
    "plt.ylabel('EUR/USD', fontsize=12, fontweight='bold')\n",
    "plt.grid(alpha=0.3)\n",
    "plt.legend(loc='upper left')\n",
    "plt.show()"
   ],
   "id": "992d3f86f50f93d0",
   "outputs": [
    {
     "data": {
      "text/plain": [
       "<Figure size 700x500 with 1 Axes>"
      ],
      "image/png": "[encoded data removed]"
     },
     "metadata": {},
     "output_type": "display_data"
    }
   ],
   "execution_count": 329
  }
 ],
 "metadata": {
  "kernelspec": {
   "display_name": "Python 3",
   "language": "python",
   "name": "python3"
  },
  "language_info": {
   "codemirror_mode": {
    "name": "ipython",
    "version": 2
   },
   "file_extension": ".py",
   "mimetype": "text/x-python",
   "name": "python",
   "nbconvert_exporter": "python",
   "pygments_lexer": "ipython2",
   "version": "2.7.6"
  }
 },
 "nbformat": 4,
 "nbformat_minor": 5
}
