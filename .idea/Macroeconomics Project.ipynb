{
 "cells": [
  {
   "metadata": {},
   "cell_type": "markdown",
   "source": "# Summary of Time series analysis, decomposition:",
   "id": "db4b985490ed7141"
  },
  {
   "metadata": {},
   "cell_type": "markdown",
   "source": [
    "1) Time series = trend + seasonality + irregular component (noise)\n",
    "2) (Winters) exponential smoothing forecast: method to predict next time observation by weigthing previous observation in order to minimize the error. Components of trends and seasonal can be taken into account with this exponential forecast.\n",
    "3) Stationarity: distribution depends only on difference on time, not location in time! need consistency of distribution to build models: expect same distribution between same among of time (01-12) vs (13-25) for example. Weak stationarity --> just mean and variance (not whole distribution) need to be the same between windows of time. Need stationarity to build stationary models. When we have seasonal data for example, we can see that in different windows of time, we don't have same mean, so no stationary. One possible when to change that: use differenciation: create new data by differencing [obs(t) - obs(t-1)] for trends adjustement. When we have seasonality, differenciate [obs[t,s] - obs[t, s-1]]: that means observation this month - observation this month previous season! Might have problem of consistency with variance also: see ARCH, GARCH models.\n",
    "4) Auto-regressive (AR) models: depends on stationary: forecast series only based on previous observations (lags). AR(1) models depends on one previous observation: Yt = intercept_w + laged target_gamma(Yt-1) + e(t). Possible have AR(p) using the p previous observation (lags) to forecast series. Long memory models: even first observation might affect the series.\n",
    "5) Moving average models (MA): we look at previous errors of the past: error lags. MA(1): actual Y depends on previous error of period before and actual error. (error between actual series and a forecast one). MA are short memory models, the errors of past disappear over time: effect of error have no effect on the present if happened long time ago. Also possible to get a MA(q) meaning that the series depends on q laged errors.\n",
    "6) ARIMA models: Autoregressive moving average models (ARMA) have both AR and MA terms togehter in one model. How to select the number of p and q to include in the model: one possible way : automatic selection techniques (such as MINIC, SCAN, ESACF). ARIMA MODELS: Autoregressive integrated moving average models: need to put your data stationary!! ARIMA(p,d,q) meaning the number of lags, number of differenciation, and number of lagged_erros. ARIMA(1,1,1) --> diffenciation: Wt = Y(t) -Y(t-1); Wt = w + δW(t-1) + θe(t-1) + e(t).\n",
    "7) ARIMA models with seasonality: remember that ARIMA needs stationarity --> we include seasonal terms! ARIMA(p,d,q)(P,D,Q)s where P represnets Seasonal AR terms, D represents Seasonal differences, Q: Seasonal MA terms, and 's' reprsents frequency of the season: how many datapoints in the season.\n",
    "8) Vector autoregressive models: have multiple targets at same time using vectors. Usually using AR(p) models for vector autoregressive because computationnaly easier.\n",
    "9) Evaluation: using MSE, MAE, MAPE, ... possible to use rolling (like cross-validation): use part of data for training (unitl certain date) and another small part for testing, then bring back the testing data into training to train model, and test it in new dataset that happen after in time, and so on."
   ],
   "id": "b6960f3c067615b9"
  },
  {
   "metadata": {},
   "cell_type": "markdown",
   "source": "# 1. Importation of libraries",
   "id": "a37f7bda7217d61e"
  },
  {
   "cell_type": "code",
   "id": "initial_id",
   "metadata": {
    "collapsed": true,
    "ExecuteTime": {
     "end_time": "2025-04-17T08:56:55.849972Z",
     "start_time": "2025-04-17T08:56:55.832064Z"
    }
   },
   "source": [
    "import requests\n",
    "import zipfile\n",
    "import io\n",
    "import os\n",
    "import pandas as pd\n",
    "import matplotlib.pyplot as plt\n",
    "import numpy as np\n",
    "\n"
   ],
   "outputs": [],
   "execution_count": 13
  },
  {
   "metadata": {},
   "cell_type": "markdown",
   "source": "# 2. Import Data into pandas DataFrame",
   "id": "f9fab786d3c8007a"
  },
  {
   "metadata": {
    "ExecuteTime": {
     "end_time": "2025-04-17T08:56:19.036398Z",
     "start_time": "2025-04-17T08:56:19.010907Z"
    }
   },
   "cell_type": "code",
   "source": [
    "url = 'https://www.kaggle.com/api/v1/datasets/download/spingere/usa-macroeconomic-rate-of-changes-1993-2025'\n",
    "filename = 'macro_monthly.csv'\n",
    "\n",
    "if os.path.exists(filename):\n",
    "    print('File exists')\n",
    "else:\n",
    "    response = requests.get(url)\n",
    "    with zipfile.ZipFile(io.BytesIO(response.content)) as zip_ref:\n",
    "        zip_ref.extractall(\".\")"
   ],
   "id": "b3165fb7d18843aa",
   "outputs": [
    {
     "name": "stdout",
     "output_type": "stream",
     "text": [
      "File exists\n"
     ]
    }
   ],
   "execution_count": 2
  },
  {
   "metadata": {
    "ExecuteTime": {
     "end_time": "2025-04-17T08:56:19.723558Z",
     "start_time": "2025-04-17T08:56:19.240189Z"
    }
   },
   "cell_type": "code",
   "source": "df = pd.read_csv('macro_monthly.csv')",
   "id": "f4c19f0da97d6c88",
   "outputs": [],
   "execution_count": 3
  },
  {
   "metadata": {},
   "cell_type": "markdown",
   "source": "# 3. Data observation and cleaning",
   "id": "e228c4feed213fa1"
  },
  {
   "metadata": {
    "ExecuteTime": {
     "end_time": "2025-04-17T08:56:21.066880Z",
     "start_time": "2025-04-17T08:56:20.945410Z"
    }
   },
   "cell_type": "code",
   "source": "df.head()",
   "id": "a31fefd93969708",
   "outputs": [
    {
     "data": {
      "text/plain": [
       "   Year  Month  Industrial_Production  \\\n",
       "0  1993      1                   0.39   \n",
       "1  1993      2                   0.48   \n",
       "2  1993      3                  -0.10   \n",
       "3  1993      4                   0.28   \n",
       "4  1993      5                  -0.37   \n",
       "\n",
       "   Manufacturers_New_Orders: Durable Goods  Consumer_Price Index  \\\n",
       "0                                    -3.52                  0.35   \n",
       "1                                     5.93                  0.21   \n",
       "2                                    -1.62                  0.14   \n",
       "3                                     0.50                  0.35   \n",
       "4                                    -0.68                  0.28   \n",
       "\n",
       "   Unemployment_Rate  Retail_Sales  Producer_Price_Index  \\\n",
       "0              -1.35          1.16                  0.34   \n",
       "1              -2.74         -0.78                  0.34   \n",
       "2              -1.41         -0.83                  0.25   \n",
       "3               1.43          2.58                  0.51   \n",
       "4               0.00          0.95                  0.34   \n",
       "\n",
       "   Personal_Consumption_Expenditures  National_Home_Price_Index  \\\n",
       "0                               0.24                       0.14   \n",
       "1                               0.15                       0.07   \n",
       "2                               0.20                       0.04   \n",
       "3                               0.27                       0.09   \n",
       "4                               0.31                       0.13   \n",
       "\n",
       "   All_Employees(Total_Nonfarm)  Labor_Force_Participation_Rate  \\\n",
       "0                          0.26                           -0.15   \n",
       "1                          0.23                            0.00   \n",
       "2                         -0.04                            0.00   \n",
       "3                          0.27                           -0.15   \n",
       "4                          0.25                            0.45   \n",
       "\n",
       "   Federal_Funds_Effective_Rate  Building_Permits  Money_Supply_(M2)  \\\n",
       "0                         -0.51              0.09              -0.16   \n",
       "1                          0.59             -2.46              -0.13   \n",
       "2                          0.40             -8.01              -0.08   \n",
       "3                         -0.34              4.55              -0.01   \n",
       "4                         -0.30              0.72               0.75   \n",
       "\n",
       "   Personal_Income  Trade_Balance  Consumer_Sentiment  Consumer_Confidence  \n",
       "0            -2.51          30.91               -1.87                -1.87  \n",
       "1             0.61           7.10               -3.02                -3.02  \n",
       "2            -0.05         -88.46               -0.81                -0.81  \n",
       "3             1.02           4.90               -0.35                -0.35  \n",
       "4             0.29          32.21               -6.19                -6.19  "
      ],
      "text/html": [
       "<div>\n",
       "<style scoped>\n",
       "    .dataframe tbody tr th:only-of-type {\n",
       "        vertical-align: middle;\n",
       "    }\n",
       "\n",
       "    .dataframe tbody tr th {\n",
       "        vertical-align: top;\n",
       "    }\n",
       "\n",
       "    .dataframe thead th {\n",
       "        text-align: right;\n",
       "    }\n",
       "</style>\n",
       "<table border=\"1\" class=\"dataframe\">\n",
       "  <thead>\n",
       "    <tr style=\"text-align: right;\">\n",
       "      <th></th>\n",
       "      <th>Year</th>\n",
       "      <th>Month</th>\n",
       "      <th>Industrial_Production</th>\n",
       "      <th>Manufacturers_New_Orders: Durable Goods</th>\n",
       "      <th>Consumer_Price Index</th>\n",
       "      <th>Unemployment_Rate</th>\n",
       "      <th>Retail_Sales</th>\n",
       "      <th>Producer_Price_Index</th>\n",
       "      <th>Personal_Consumption_Expenditures</th>\n",
       "      <th>National_Home_Price_Index</th>\n",
       "      <th>All_Employees(Total_Nonfarm)</th>\n",
       "      <th>Labor_Force_Participation_Rate</th>\n",
       "      <th>Federal_Funds_Effective_Rate</th>\n",
       "      <th>Building_Permits</th>\n",
       "      <th>Money_Supply_(M2)</th>\n",
       "      <th>Personal_Income</th>\n",
       "      <th>Trade_Balance</th>\n",
       "      <th>Consumer_Sentiment</th>\n",
       "      <th>Consumer_Confidence</th>\n",
       "    </tr>\n",
       "  </thead>\n",
       "  <tbody>\n",
       "    <tr>\n",
       "      <th>0</th>\n",
       "      <td>1993</td>\n",
       "      <td>1</td>\n",
       "      <td>0.39</td>\n",
       "      <td>-3.52</td>\n",
       "      <td>0.35</td>\n",
       "      <td>-1.35</td>\n",
       "      <td>1.16</td>\n",
       "      <td>0.34</td>\n",
       "      <td>0.24</td>\n",
       "      <td>0.14</td>\n",
       "      <td>0.26</td>\n",
       "      <td>-0.15</td>\n",
       "      <td>-0.51</td>\n",
       "      <td>0.09</td>\n",
       "      <td>-0.16</td>\n",
       "      <td>-2.51</td>\n",
       "      <td>30.91</td>\n",
       "      <td>-1.87</td>\n",
       "      <td>-1.87</td>\n",
       "    </tr>\n",
       "    <tr>\n",
       "      <th>1</th>\n",
       "      <td>1993</td>\n",
       "      <td>2</td>\n",
       "      <td>0.48</td>\n",
       "      <td>5.93</td>\n",
       "      <td>0.21</td>\n",
       "      <td>-2.74</td>\n",
       "      <td>-0.78</td>\n",
       "      <td>0.34</td>\n",
       "      <td>0.15</td>\n",
       "      <td>0.07</td>\n",
       "      <td>0.23</td>\n",
       "      <td>0.00</td>\n",
       "      <td>0.59</td>\n",
       "      <td>-2.46</td>\n",
       "      <td>-0.13</td>\n",
       "      <td>0.61</td>\n",
       "      <td>7.10</td>\n",
       "      <td>-3.02</td>\n",
       "      <td>-3.02</td>\n",
       "    </tr>\n",
       "    <tr>\n",
       "      <th>2</th>\n",
       "      <td>1993</td>\n",
       "      <td>3</td>\n",
       "      <td>-0.10</td>\n",
       "      <td>-1.62</td>\n",
       "      <td>0.14</td>\n",
       "      <td>-1.41</td>\n",
       "      <td>-0.83</td>\n",
       "      <td>0.25</td>\n",
       "      <td>0.20</td>\n",
       "      <td>0.04</td>\n",
       "      <td>-0.04</td>\n",
       "      <td>0.00</td>\n",
       "      <td>0.40</td>\n",
       "      <td>-8.01</td>\n",
       "      <td>-0.08</td>\n",
       "      <td>-0.05</td>\n",
       "      <td>-88.46</td>\n",
       "      <td>-0.81</td>\n",
       "      <td>-0.81</td>\n",
       "    </tr>\n",
       "    <tr>\n",
       "      <th>3</th>\n",
       "      <td>1993</td>\n",
       "      <td>4</td>\n",
       "      <td>0.28</td>\n",
       "      <td>0.50</td>\n",
       "      <td>0.35</td>\n",
       "      <td>1.43</td>\n",
       "      <td>2.58</td>\n",
       "      <td>0.51</td>\n",
       "      <td>0.27</td>\n",
       "      <td>0.09</td>\n",
       "      <td>0.27</td>\n",
       "      <td>-0.15</td>\n",
       "      <td>-0.34</td>\n",
       "      <td>4.55</td>\n",
       "      <td>-0.01</td>\n",
       "      <td>1.02</td>\n",
       "      <td>4.90</td>\n",
       "      <td>-0.35</td>\n",
       "      <td>-0.35</td>\n",
       "    </tr>\n",
       "    <tr>\n",
       "      <th>4</th>\n",
       "      <td>1993</td>\n",
       "      <td>5</td>\n",
       "      <td>-0.37</td>\n",
       "      <td>-0.68</td>\n",
       "      <td>0.28</td>\n",
       "      <td>0.00</td>\n",
       "      <td>0.95</td>\n",
       "      <td>0.34</td>\n",
       "      <td>0.31</td>\n",
       "      <td>0.13</td>\n",
       "      <td>0.25</td>\n",
       "      <td>0.45</td>\n",
       "      <td>-0.30</td>\n",
       "      <td>0.72</td>\n",
       "      <td>0.75</td>\n",
       "      <td>0.29</td>\n",
       "      <td>32.21</td>\n",
       "      <td>-6.19</td>\n",
       "      <td>-6.19</td>\n",
       "    </tr>\n",
       "  </tbody>\n",
       "</table>\n",
       "</div>"
      ]
     },
     "execution_count": 4,
     "metadata": {},
     "output_type": "execute_result"
    }
   ],
   "execution_count": 4
  },
  {
   "metadata": {},
   "cell_type": "markdown",
   "source": "Data are rate of changes, but FEDFUNDS rate is changes in absolute change in basis points.",
   "id": "e1d08633773ec837"
  },
  {
   "metadata": {
    "ExecuteTime": {
     "end_time": "2025-04-17T08:56:21.410989Z",
     "start_time": "2025-04-17T08:56:21.397024Z"
    }
   },
   "cell_type": "code",
   "source": "df.shape",
   "id": "927642023d35ec",
   "outputs": [
    {
     "data": {
      "text/plain": [
       "(384, 19)"
      ]
     },
     "execution_count": 5,
     "metadata": {},
     "output_type": "execute_result"
    }
   ],
   "execution_count": 5
  },
  {
   "metadata": {
    "ExecuteTime": {
     "end_time": "2025-04-17T08:56:21.565985Z",
     "start_time": "2025-04-17T08:56:21.554309Z"
    }
   },
   "cell_type": "code",
   "source": "df.isna().any()",
   "id": "e94ab134ddcbe58c",
   "outputs": [
    {
     "data": {
      "text/plain": [
       "Year                                       False\n",
       "Month                                      False\n",
       "Industrial_Production                      False\n",
       "Manufacturers_New_Orders: Durable Goods    False\n",
       "Consumer_Price Index                       False\n",
       "Unemployment_Rate                          False\n",
       "Retail_Sales                               False\n",
       "Producer_Price_Index                       False\n",
       "Personal_Consumption_Expenditures          False\n",
       "National_Home_Price_Index                  False\n",
       "All_Employees(Total_Nonfarm)               False\n",
       "Labor_Force_Participation_Rate             False\n",
       "Federal_Funds_Effective_Rate               False\n",
       "Building_Permits                           False\n",
       "Money_Supply_(M2)                          False\n",
       "Personal_Income                            False\n",
       "Trade_Balance                              False\n",
       "Consumer_Sentiment                         False\n",
       "Consumer_Confidence                        False\n",
       "dtype: bool"
      ]
     },
     "execution_count": 6,
     "metadata": {},
     "output_type": "execute_result"
    }
   ],
   "execution_count": 6
  },
  {
   "metadata": {},
   "cell_type": "markdown",
   "source": "### Transform index into datetime",
   "id": "11219e83367cb4ff"
  },
  {
   "metadata": {
    "ExecuteTime": {
     "end_time": "2025-04-17T08:56:21.816782Z",
     "start_time": "2025-04-17T08:56:21.803155Z"
    }
   },
   "cell_type": "code",
   "source": "#df['Time'] = pd.to_datetime(df['Year'].astype(str) + '-' + df['Month'].astype(str)).dt.to_period('M')",
   "id": "c90fd2cc595f060b",
   "outputs": [],
   "execution_count": 7
  },
  {
   "metadata": {
    "ExecuteTime": {
     "end_time": "2025-04-17T08:56:22.035500Z",
     "start_time": "2025-04-17T08:56:22.000318Z"
    }
   },
   "cell_type": "code",
   "source": "df['DateTime'] = pd.to_datetime(df['Year'].astype(str) + '-' + df['Month'].astype(str))",
   "id": "f2fd4d779ceb2fa7",
   "outputs": [],
   "execution_count": 8
  },
  {
   "metadata": {
    "ExecuteTime": {
     "end_time": "2025-04-17T08:56:22.160302Z",
     "start_time": "2025-04-17T08:56:22.132415Z"
    }
   },
   "cell_type": "code",
   "source": "df = df.drop(columns=['Year', 'Month'])",
   "id": "dd5b72eb8c1d5ec4",
   "outputs": [],
   "execution_count": 9
  },
  {
   "metadata": {
    "ExecuteTime": {
     "end_time": "2025-04-17T08:56:22.254474Z",
     "start_time": "2025-04-17T08:56:22.241794Z"
    }
   },
   "cell_type": "code",
   "source": "df = df.set_index('DateTime')",
   "id": "c378f1e0317b9758",
   "outputs": [],
   "execution_count": 10
  },
  {
   "metadata": {
    "ExecuteTime": {
     "end_time": "2025-04-17T08:56:22.330723Z",
     "start_time": "2025-04-17T08:56:22.301843Z"
    }
   },
   "cell_type": "code",
   "source": "df.head(3)",
   "id": "b4bac14741a429b5",
   "outputs": [
    {
     "data": {
      "text/plain": [
       "            Industrial_Production  Manufacturers_New_Orders: Durable Goods  \\\n",
       "DateTime                                                                     \n",
       "1993-01-01                   0.39                                    -3.52   \n",
       "1993-02-01                   0.48                                     5.93   \n",
       "1993-03-01                  -0.10                                    -1.62   \n",
       "\n",
       "            Consumer_Price Index  Unemployment_Rate  Retail_Sales  \\\n",
       "DateTime                                                            \n",
       "1993-01-01                  0.35              -1.35          1.16   \n",
       "1993-02-01                  0.21              -2.74         -0.78   \n",
       "1993-03-01                  0.14              -1.41         -0.83   \n",
       "\n",
       "            Producer_Price_Index  Personal_Consumption_Expenditures  \\\n",
       "DateTime                                                              \n",
       "1993-01-01                  0.34                               0.24   \n",
       "1993-02-01                  0.34                               0.15   \n",
       "1993-03-01                  0.25                               0.20   \n",
       "\n",
       "            National_Home_Price_Index  All_Employees(Total_Nonfarm)  \\\n",
       "DateTime                                                              \n",
       "1993-01-01                       0.14                          0.26   \n",
       "1993-02-01                       0.07                          0.23   \n",
       "1993-03-01                       0.04                         -0.04   \n",
       "\n",
       "            Labor_Force_Participation_Rate  Federal_Funds_Effective_Rate  \\\n",
       "DateTime                                                                   \n",
       "1993-01-01                           -0.15                         -0.51   \n",
       "1993-02-01                            0.00                          0.59   \n",
       "1993-03-01                            0.00                          0.40   \n",
       "\n",
       "            Building_Permits  Money_Supply_(M2)  Personal_Income  \\\n",
       "DateTime                                                           \n",
       "1993-01-01              0.09              -0.16            -2.51   \n",
       "1993-02-01             -2.46              -0.13             0.61   \n",
       "1993-03-01             -8.01              -0.08            -0.05   \n",
       "\n",
       "            Trade_Balance  Consumer_Sentiment  Consumer_Confidence  \n",
       "DateTime                                                            \n",
       "1993-01-01          30.91               -1.87                -1.87  \n",
       "1993-02-01           7.10               -3.02                -3.02  \n",
       "1993-03-01         -88.46               -0.81                -0.81  "
      ],
      "text/html": [
       "<div>\n",
       "<style scoped>\n",
       "    .dataframe tbody tr th:only-of-type {\n",
       "        vertical-align: middle;\n",
       "    }\n",
       "\n",
       "    .dataframe tbody tr th {\n",
       "        vertical-align: top;\n",
       "    }\n",
       "\n",
       "    .dataframe thead th {\n",
       "        text-align: right;\n",
       "    }\n",
       "</style>\n",
       "<table border=\"1\" class=\"dataframe\">\n",
       "  <thead>\n",
       "    <tr style=\"text-align: right;\">\n",
       "      <th></th>\n",
       "      <th>Industrial_Production</th>\n",
       "      <th>Manufacturers_New_Orders: Durable Goods</th>\n",
       "      <th>Consumer_Price Index</th>\n",
       "      <th>Unemployment_Rate</th>\n",
       "      <th>Retail_Sales</th>\n",
       "      <th>Producer_Price_Index</th>\n",
       "      <th>Personal_Consumption_Expenditures</th>\n",
       "      <th>National_Home_Price_Index</th>\n",
       "      <th>All_Employees(Total_Nonfarm)</th>\n",
       "      <th>Labor_Force_Participation_Rate</th>\n",
       "      <th>Federal_Funds_Effective_Rate</th>\n",
       "      <th>Building_Permits</th>\n",
       "      <th>Money_Supply_(M2)</th>\n",
       "      <th>Personal_Income</th>\n",
       "      <th>Trade_Balance</th>\n",
       "      <th>Consumer_Sentiment</th>\n",
       "      <th>Consumer_Confidence</th>\n",
       "    </tr>\n",
       "    <tr>\n",
       "      <th>DateTime</th>\n",
       "      <th></th>\n",
       "      <th></th>\n",
       "      <th></th>\n",
       "      <th></th>\n",
       "      <th></th>\n",
       "      <th></th>\n",
       "      <th></th>\n",
       "      <th></th>\n",
       "      <th></th>\n",
       "      <th></th>\n",
       "      <th></th>\n",
       "      <th></th>\n",
       "      <th></th>\n",
       "      <th></th>\n",
       "      <th></th>\n",
       "      <th></th>\n",
       "      <th></th>\n",
       "    </tr>\n",
       "  </thead>\n",
       "  <tbody>\n",
       "    <tr>\n",
       "      <th>1993-01-01</th>\n",
       "      <td>0.39</td>\n",
       "      <td>-3.52</td>\n",
       "      <td>0.35</td>\n",
       "      <td>-1.35</td>\n",
       "      <td>1.16</td>\n",
       "      <td>0.34</td>\n",
       "      <td>0.24</td>\n",
       "      <td>0.14</td>\n",
       "      <td>0.26</td>\n",
       "      <td>-0.15</td>\n",
       "      <td>-0.51</td>\n",
       "      <td>0.09</td>\n",
       "      <td>-0.16</td>\n",
       "      <td>-2.51</td>\n",
       "      <td>30.91</td>\n",
       "      <td>-1.87</td>\n",
       "      <td>-1.87</td>\n",
       "    </tr>\n",
       "    <tr>\n",
       "      <th>1993-02-01</th>\n",
       "      <td>0.48</td>\n",
       "      <td>5.93</td>\n",
       "      <td>0.21</td>\n",
       "      <td>-2.74</td>\n",
       "      <td>-0.78</td>\n",
       "      <td>0.34</td>\n",
       "      <td>0.15</td>\n",
       "      <td>0.07</td>\n",
       "      <td>0.23</td>\n",
       "      <td>0.00</td>\n",
       "      <td>0.59</td>\n",
       "      <td>-2.46</td>\n",
       "      <td>-0.13</td>\n",
       "      <td>0.61</td>\n",
       "      <td>7.10</td>\n",
       "      <td>-3.02</td>\n",
       "      <td>-3.02</td>\n",
       "    </tr>\n",
       "    <tr>\n",
       "      <th>1993-03-01</th>\n",
       "      <td>-0.10</td>\n",
       "      <td>-1.62</td>\n",
       "      <td>0.14</td>\n",
       "      <td>-1.41</td>\n",
       "      <td>-0.83</td>\n",
       "      <td>0.25</td>\n",
       "      <td>0.20</td>\n",
       "      <td>0.04</td>\n",
       "      <td>-0.04</td>\n",
       "      <td>0.00</td>\n",
       "      <td>0.40</td>\n",
       "      <td>-8.01</td>\n",
       "      <td>-0.08</td>\n",
       "      <td>-0.05</td>\n",
       "      <td>-88.46</td>\n",
       "      <td>-0.81</td>\n",
       "      <td>-0.81</td>\n",
       "    </tr>\n",
       "  </tbody>\n",
       "</table>\n",
       "</div>"
      ]
     },
     "execution_count": 11,
     "metadata": {},
     "output_type": "execute_result"
    }
   ],
   "execution_count": 11
  }
 ],
 "metadata": {
  "kernelspec": {
   "display_name": "Python 3",
   "language": "python",
   "name": "python3"
  },
  "language_info": {
   "codemirror_mode": {
    "name": "ipython",
    "version": 2
   },
   "file_extension": ".py",
   "mimetype": "text/x-python",
   "name": "python",
   "nbconvert_exporter": "python",
   "pygments_lexer": "ipython2",
   "version": "2.7.6"
  }
 },
 "nbformat": 4,
 "nbformat_minor": 5
}
